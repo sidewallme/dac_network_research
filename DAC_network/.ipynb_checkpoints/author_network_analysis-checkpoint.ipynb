{
 "cells": [
  {
   "cell_type": "markdown",
   "metadata": {},
   "source": [
    "<h1 align=\"center\">DAC Author Network Analysis</h1> "
   ]
  },
  {
   "cell_type": "markdown",
   "metadata": {},
   "source": [
    "Reference:    \n",
    "[1] Modularity and community structure in networks http://www.pnas.org/content/103/23/8577.full.pdf    \n",
    "[2] The structure of scientific collaboration networks http://www.pnas.org/content/98/2/404.full.pdf    \n",
    "[3] D. Liben-Nowell, J. Kleinberg. The Link Prediction Problem for Social Networks (2004). http://www.cs.cornell.edu/home/kleinber/link-pred.pdf"
   ]
  },
  {
   "cell_type": "code",
   "execution_count": 1,
   "metadata": {
    "collapsed": true
   },
   "outputs": [],
   "source": [
    "%matplotlib inline"
   ]
  },
  {
   "cell_type": "code",
   "execution_count": 97,
   "metadata": {
    "collapsed": true
   },
   "outputs": [],
   "source": [
    "import matplotlib.pyplot as plt\n",
    "import networkx as nx\n",
    "from DAC import Author\n",
    "from DAC import Paper\n",
    "import pandas as pd\n",
    "import pickle\n",
    "import pyprind\n",
    "import community\n",
    "import operator\n",
    "\n",
    "from fuzzywuzzy import fuzz\n",
    "from fuzzywuzzy import process"
   ]
  },
  {
   "cell_type": "code",
   "execution_count": 3,
   "metadata": {
    "collapsed": false
   },
   "outputs": [],
   "source": [
    "with open(\"../Data/Author_Data.pickle\", \"rb\") as f:\n",
    "    authors = pickle.load(f)"
   ]
  },
  {
   "cell_type": "code",
   "execution_count": 4,
   "metadata": {
    "collapsed": true
   },
   "outputs": [],
   "source": [
    "with open(\"../Data/Paper_Data.pickle\", \"rb\") as f:\n",
    "    papers = pickle.load(f)"
   ]
  },
  {
   "cell_type": "markdown",
   "metadata": {},
   "source": [
    "# Network Construction"
   ]
  },
  {
   "cell_type": "code",
   "execution_count": 5,
   "metadata": {
    "collapsed": false
   },
   "outputs": [],
   "source": [
    "def make_pairs(input_list):\n",
    "    length = len(input_list)\n",
    "    ret = []\n",
    "    if length == 1:\n",
    "        return [(input_list[0], input_list[0])]\n",
    "    for i in range(0, length-1):\n",
    "        for j in range(i+1, length):\n",
    "            ret.append((input_list[i], input_list[j]))\n",
    "    return ret\n",
    "\n",
    "def papers_by_year(papers, inf, sup):\n",
    "    ret = []\n",
    "    for p in papers.values():\n",
    "        if p.year <= sup and p.year >= inf:\n",
    "            ret.append(p)\n",
    "    return ret\n",
    "\n",
    "def make_edges(papers_selected):\n",
    "    edge_list = []\n",
    "    for p in papers_selected:\n",
    "        edge_list.extend(make_pairs(p.author_ids))\n",
    "    return edge_list\n",
    "\n",
    "def author_network(papers, inf_year, sup_year):\n",
    "    papers_between = papers_by_year(papers, inf_year, sup_year)\n",
    "    edge_list = make_edges(papers_between)\n",
    "    \n",
    "    G=nx.Graph()\n",
    "    for edge in edge_list:\n",
    "        G.add_edge(edge[0], edge[1])\n",
    "    return G"
   ]
  },
  {
   "cell_type": "markdown",
   "metadata": {},
   "source": [
    "# Author Search"
   ]
  },
  {
   "cell_type": "code",
   "execution_count": 103,
   "metadata": {
    "collapsed": true
   },
   "outputs": [],
   "source": [
    "def author_search(authors, name):\n",
    "    name_set = []\n",
    "    for author in authors.values():\n",
    "        name_set.append(author.name)\n",
    "    candidates = process.extract(name, name_set, limit=2)\n",
    "    \n",
    "    result = {}\n",
    "    for candidate in candidates:\n",
    "        cur = candidate[0]\n",
    "        for author in authors.values():\n",
    "            if author.name == cur:\n",
    "                result[author.aid] = author.__dict__\n",
    "    return result\n",
    "\n",
    "def display_author(authors, aid):\n",
    "    return authors[aid].__dict__"
   ]
  },
  {
   "cell_type": "code",
   "execution_count": 86,
   "metadata": {
    "collapsed": false
   },
   "outputs": [
    {
     "data": {
      "text/plain": [
       "{'2511': {'aid': '2511',\n",
       "  'name': u'Jingzhou (James) Yang',\n",
       "  'nicknames': [],\n",
       "  'paper_ids': [u'DETC2012-70560 pp. 641-652; (12 pages)']},\n",
       " '3': {'aid': '3',\n",
       "  'name': u'James Allison',\n",
       "  'nicknames': [u'James T. Allison'],\n",
       "  'paper_ids': [u'DETC2005-84790 pp. 265-275; (11 pages)',\n",
       "   u'DETC2015-46832, pp. V02BT03A024',\n",
       "   u'DETC2008-49823 pp. 917-926; (10 pages)',\n",
       "   u'DETC2013-12262 pp. V03BT03A011; (11 pages)',\n",
       "   u'DETC2007-34698 pp. 709-718; (10 pages)',\n",
       "   u'DETC2014-35314 pp. V02BT03A039; (14 pages)',\n",
       "   u'DETC2011-48521 pp. 903-913; (11 pages)',\n",
       "   u'DETC2010-29055 pp. 715-728; (14 pages)',\n",
       "   u'DETC2015-46768, pp. V02BT03A008',\n",
       "   u'DETC2010-28887 pp. 765-774; (10 pages)',\n",
       "   u'DETC2014-34256 pp. V02AT03A006; (12 pages)',\n",
       "   u'DETC2012-71108 pp. 847-856; (10 pages)',\n",
       "   u'DETC2010-28788 pp. 755-764; (10 pages)',\n",
       "   u'DETC2013-13462 pp. V03AT03A058; (10 pages)',\n",
       "   u'DETC2013-12600 pp. V03AT03A018; (11 pages)']}}"
      ]
     },
     "execution_count": 86,
     "metadata": {},
     "output_type": "execute_result"
    }
   ],
   "source": [
    "author_search(authors, \"james allison\")"
   ]
  },
  {
   "cell_type": "markdown",
   "metadata": {},
   "source": [
    "# 1. Total papers"
   ]
  },
  {
   "cell_type": "code",
   "execution_count": 6,
   "metadata": {
    "collapsed": false
   },
   "outputs": [
    {
     "data": {
      "text/plain": [
       "1668"
      ]
     },
     "execution_count": 6,
     "metadata": {},
     "output_type": "execute_result"
    }
   ],
   "source": [
    "len(papers)"
   ]
  },
  {
   "cell_type": "markdown",
   "metadata": {},
   "source": [
    "From 2002 to 2015, there are 1668 papers in DAC."
   ]
  },
  {
   "cell_type": "code",
   "execution_count": 7,
   "metadata": {
    "collapsed": false
   },
   "outputs": [],
   "source": [
    "def year_paper_stats():\n",
    "    stats = {}\n",
    "    for p in papers.values():\n",
    "        stats[p.year] = 0\n",
    "        \n",
    "    for p in papers.values():\n",
    "        stats[p.year] += 1\n",
    "    \n",
    "    return stats"
   ]
  },
  {
   "cell_type": "code",
   "execution_count": 8,
   "metadata": {
    "collapsed": false
   },
   "outputs": [
    {
     "data": {
      "text/plain": [
       "<matplotlib.text.Text at 0x10abc1ad0>"
      ]
     },
     "execution_count": 8,
     "metadata": {},
     "output_type": "execute_result"
    },
    {
     "data": {
      "image/png": "[encoded data removed]",
      "text/plain": [
       "<matplotlib.figure.Figure at 0x10abab590>"
      ]
     },
     "metadata": {},
     "output_type": "display_data"
    }
   ],
   "source": [
    "yt = year_paper_stats()\n",
    "plt.plot(yt.keys(), yt.values())\n",
    "plt.ylabel('Papers')\n",
    "plt.xlabel('Year')"
   ]
  },
  {
   "cell_type": "code",
   "execution_count": 9,
   "metadata": {
    "collapsed": false
   },
   "outputs": [
    {
     "data": {
      "text/html": [
       "<div>\n",
       "<table border=\"1\" class=\"dataframe\">\n",
       "  <thead>\n",
       "    <tr style=\"text-align: right;\">\n",
       "      <th></th>\n",
       "      <th>Year</th>\n",
       "      <th>Papers</th>\n",
       "    </tr>\n",
       "  </thead>\n",
       "  <tbody>\n",
       "    <tr>\n",
       "      <th>0</th>\n",
       "      <td>2002</td>\n",
       "      <td>117</td>\n",
       "    </tr>\n",
       "    <tr>\n",
       "      <th>1</th>\n",
       "      <td>2003</td>\n",
       "      <td>143</td>\n",
       "    </tr>\n",
       "    <tr>\n",
       "      <th>2</th>\n",
       "      <td>2004</td>\n",
       "      <td>115</td>\n",
       "    </tr>\n",
       "    <tr>\n",
       "      <th>3</th>\n",
       "      <td>2005</td>\n",
       "      <td>128</td>\n",
       "    </tr>\n",
       "    <tr>\n",
       "      <th>4</th>\n",
       "      <td>2006</td>\n",
       "      <td>118</td>\n",
       "    </tr>\n",
       "    <tr>\n",
       "      <th>5</th>\n",
       "      <td>2007</td>\n",
       "      <td>125</td>\n",
       "    </tr>\n",
       "    <tr>\n",
       "      <th>6</th>\n",
       "      <td>2008</td>\n",
       "      <td>119</td>\n",
       "    </tr>\n",
       "    <tr>\n",
       "      <th>7</th>\n",
       "      <td>2009</td>\n",
       "      <td>122</td>\n",
       "    </tr>\n",
       "    <tr>\n",
       "      <th>8</th>\n",
       "      <td>2010</td>\n",
       "      <td>168</td>\n",
       "    </tr>\n",
       "    <tr>\n",
       "      <th>9</th>\n",
       "      <td>2011</td>\n",
       "      <td>168</td>\n",
       "    </tr>\n",
       "    <tr>\n",
       "      <th>10</th>\n",
       "      <td>2012</td>\n",
       "      <td>123</td>\n",
       "    </tr>\n",
       "    <tr>\n",
       "      <th>11</th>\n",
       "      <td>2013</td>\n",
       "      <td>55</td>\n",
       "    </tr>\n",
       "    <tr>\n",
       "      <th>12</th>\n",
       "      <td>2014</td>\n",
       "      <td>53</td>\n",
       "    </tr>\n",
       "    <tr>\n",
       "      <th>13</th>\n",
       "      <td>2015</td>\n",
       "      <td>114</td>\n",
       "    </tr>\n",
       "  </tbody>\n",
       "</table>\n",
       "</div>"
      ],
      "text/plain": [
       "    Year  Papers\n",
       "0   2002     117\n",
       "1   2003     143\n",
       "2   2004     115\n",
       "3   2005     128\n",
       "4   2006     118\n",
       "5   2007     125\n",
       "6   2008     119\n",
       "7   2009     122\n",
       "8   2010     168\n",
       "9   2011     168\n",
       "10  2012     123\n",
       "11  2013      55\n",
       "12  2014      53\n",
       "13  2015     114"
      ]
     },
     "execution_count": 9,
     "metadata": {},
     "output_type": "execute_result"
    }
   ],
   "source": [
    "pd.DataFrame(yt.items(), columns=['Year', 'Papers'])"
   ]
  },
  {
   "cell_type": "markdown",
   "metadata": {},
   "source": [
    "# 2. Total authors"
   ]
  },
  {
   "cell_type": "code",
   "execution_count": 10,
   "metadata": {
    "collapsed": false
   },
   "outputs": [
    {
     "data": {
      "text/plain": [
       "2374"
      ]
     },
     "execution_count": 10,
     "metadata": {},
     "output_type": "execute_result"
    }
   ],
   "source": [
    "len(authors)"
   ]
  },
  {
   "cell_type": "markdown",
   "metadata": {},
   "source": [
    "From 2002 to 2015, there are 2374 authors in DAC."
   ]
  },
  {
   "cell_type": "code",
   "execution_count": 11,
   "metadata": {
    "collapsed": true
   },
   "outputs": [],
   "source": [
    "def year_author_stats():\n",
    "    year_au = {}\n",
    "    for p in papers.values():\n",
    "        year_au[p.year] = set()\n",
    "        \n",
    "    for p in papers.values():\n",
    "        for au in p.author_ids:\n",
    "            year_au[p.year].add(au)\n",
    "    \n",
    "    stats = {}\n",
    "    for y in year_au.keys():\n",
    "        stats[y] = len(year_au[y])\n",
    "    return stats"
   ]
  },
  {
   "cell_type": "code",
   "execution_count": 12,
   "metadata": {
    "collapsed": false
   },
   "outputs": [
    {
     "data": {
      "text/plain": [
       "<matplotlib.text.Text at 0x10abd7550>"
      ]
     },
     "execution_count": 12,
     "metadata": {},
     "output_type": "execute_result"
    },
    {
     "data": {
      "image/png": "[encoded data removed]",
      "text/plain": [
       "<matplotlib.figure.Figure at 0x10ac12e90>"
      ]
     },
     "metadata": {},
     "output_type": "display_data"
    }
   ],
   "source": [
    "yt = year_author_stats()\n",
    "plt.plot(yt.keys(), yt.values())\n",
    "plt.ylabel('Authors')\n",
    "plt.xlabel('Year')"
   ]
  },
  {
   "cell_type": "code",
   "execution_count": 13,
   "metadata": {
    "collapsed": false
   },
   "outputs": [
    {
     "data": {
      "text/html": [
       "<div>\n",
       "<table border=\"1\" class=\"dataframe\">\n",
       "  <thead>\n",
       "    <tr style=\"text-align: right;\">\n",
       "      <th></th>\n",
       "      <th>Year</th>\n",
       "      <th>Authors</th>\n",
       "    </tr>\n",
       "  </thead>\n",
       "  <tbody>\n",
       "    <tr>\n",
       "      <th>0</th>\n",
       "      <td>2002</td>\n",
       "      <td>277</td>\n",
       "    </tr>\n",
       "    <tr>\n",
       "      <th>1</th>\n",
       "      <td>2003</td>\n",
       "      <td>318</td>\n",
       "    </tr>\n",
       "    <tr>\n",
       "      <th>2</th>\n",
       "      <td>2004</td>\n",
       "      <td>275</td>\n",
       "    </tr>\n",
       "    <tr>\n",
       "      <th>3</th>\n",
       "      <td>2005</td>\n",
       "      <td>281</td>\n",
       "    </tr>\n",
       "    <tr>\n",
       "      <th>4</th>\n",
       "      <td>2006</td>\n",
       "      <td>272</td>\n",
       "    </tr>\n",
       "    <tr>\n",
       "      <th>5</th>\n",
       "      <td>2007</td>\n",
       "      <td>285</td>\n",
       "    </tr>\n",
       "    <tr>\n",
       "      <th>6</th>\n",
       "      <td>2008</td>\n",
       "      <td>308</td>\n",
       "    </tr>\n",
       "    <tr>\n",
       "      <th>7</th>\n",
       "      <td>2009</td>\n",
       "      <td>307</td>\n",
       "    </tr>\n",
       "    <tr>\n",
       "      <th>8</th>\n",
       "      <td>2010</td>\n",
       "      <td>374</td>\n",
       "    </tr>\n",
       "    <tr>\n",
       "      <th>9</th>\n",
       "      <td>2011</td>\n",
       "      <td>382</td>\n",
       "    </tr>\n",
       "    <tr>\n",
       "      <th>10</th>\n",
       "      <td>2012</td>\n",
       "      <td>303</td>\n",
       "    </tr>\n",
       "    <tr>\n",
       "      <th>11</th>\n",
       "      <td>2013</td>\n",
       "      <td>135</td>\n",
       "    </tr>\n",
       "    <tr>\n",
       "      <th>12</th>\n",
       "      <td>2014</td>\n",
       "      <td>151</td>\n",
       "    </tr>\n",
       "    <tr>\n",
       "      <th>13</th>\n",
       "      <td>2015</td>\n",
       "      <td>304</td>\n",
       "    </tr>\n",
       "  </tbody>\n",
       "</table>\n",
       "</div>"
      ],
      "text/plain": [
       "    Year  Authors\n",
       "0   2002      277\n",
       "1   2003      318\n",
       "2   2004      275\n",
       "3   2005      281\n",
       "4   2006      272\n",
       "5   2007      285\n",
       "6   2008      308\n",
       "7   2009      307\n",
       "8   2010      374\n",
       "9   2011      382\n",
       "10  2012      303\n",
       "11  2013      135\n",
       "12  2014      151\n",
       "13  2015      304"
      ]
     },
     "execution_count": 13,
     "metadata": {},
     "output_type": "execute_result"
    }
   ],
   "source": [
    "pd.DataFrame(yt.items(), columns=['Year', 'Authors'])"
   ]
  },
  {
   "cell_type": "markdown",
   "metadata": {},
   "source": [
    "# 3. Mean papers per author"
   ]
  },
  {
   "cell_type": "code",
   "execution_count": 14,
   "metadata": {
    "collapsed": true
   },
   "outputs": [],
   "source": [
    "def avg_stats():\n",
    "    stats = {}\n",
    "    \n",
    "    au_stats = year_author_stats()\n",
    "    pp_stats = year_paper_stats()\n",
    "    \n",
    "    for year in au_stats.keys():\n",
    "        stats[year] = float(pp_stats[year])/au_stats[year]\n",
    "        \n",
    "    return stats"
   ]
  },
  {
   "cell_type": "code",
   "execution_count": 15,
   "metadata": {
    "collapsed": false
   },
   "outputs": [
    {
     "data": {
      "text/plain": [
       "<matplotlib.text.Text at 0x10ac6be50>"
      ]
     },
     "execution_count": 15,
     "metadata": {},
     "output_type": "execute_result"
    },
    {
     "data": {
      "image/png": "[encoded data removed]",
      "text/plain": [
       "<matplotlib.figure.Figure at 0x10ad6bd50>"
      ]
     },
     "metadata": {},
     "output_type": "display_data"
    }
   ],
   "source": [
    "yt = avg_stats()\n",
    "plt.plot(yt.keys(), yt.values())\n",
    "plt.ylabel('Mean papers per author')\n",
    "plt.xlabel('Year')"
   ]
  },
  {
   "cell_type": "code",
   "execution_count": 16,
   "metadata": {
    "collapsed": false
   },
   "outputs": [
    {
     "data": {
      "text/html": [
       "<div>\n",
       "<table border=\"1\" class=\"dataframe\">\n",
       "  <thead>\n",
       "    <tr style=\"text-align: right;\">\n",
       "      <th></th>\n",
       "      <th>Year</th>\n",
       "      <th>Mean papers per author</th>\n",
       "    </tr>\n",
       "  </thead>\n",
       "  <tbody>\n",
       "    <tr>\n",
       "      <th>0</th>\n",
       "      <td>2002</td>\n",
       "      <td>0.422383</td>\n",
       "    </tr>\n",
       "    <tr>\n",
       "      <th>1</th>\n",
       "      <td>2003</td>\n",
       "      <td>0.449686</td>\n",
       "    </tr>\n",
       "    <tr>\n",
       "      <th>2</th>\n",
       "      <td>2004</td>\n",
       "      <td>0.418182</td>\n",
       "    </tr>\n",
       "    <tr>\n",
       "      <th>3</th>\n",
       "      <td>2005</td>\n",
       "      <td>0.455516</td>\n",
       "    </tr>\n",
       "    <tr>\n",
       "      <th>4</th>\n",
       "      <td>2006</td>\n",
       "      <td>0.433824</td>\n",
       "    </tr>\n",
       "    <tr>\n",
       "      <th>5</th>\n",
       "      <td>2007</td>\n",
       "      <td>0.438596</td>\n",
       "    </tr>\n",
       "    <tr>\n",
       "      <th>6</th>\n",
       "      <td>2008</td>\n",
       "      <td>0.386364</td>\n",
       "    </tr>\n",
       "    <tr>\n",
       "      <th>7</th>\n",
       "      <td>2009</td>\n",
       "      <td>0.397394</td>\n",
       "    </tr>\n",
       "    <tr>\n",
       "      <th>8</th>\n",
       "      <td>2010</td>\n",
       "      <td>0.449198</td>\n",
       "    </tr>\n",
       "    <tr>\n",
       "      <th>9</th>\n",
       "      <td>2011</td>\n",
       "      <td>0.439791</td>\n",
       "    </tr>\n",
       "    <tr>\n",
       "      <th>10</th>\n",
       "      <td>2012</td>\n",
       "      <td>0.405941</td>\n",
       "    </tr>\n",
       "    <tr>\n",
       "      <th>11</th>\n",
       "      <td>2013</td>\n",
       "      <td>0.407407</td>\n",
       "    </tr>\n",
       "    <tr>\n",
       "      <th>12</th>\n",
       "      <td>2014</td>\n",
       "      <td>0.350993</td>\n",
       "    </tr>\n",
       "    <tr>\n",
       "      <th>13</th>\n",
       "      <td>2015</td>\n",
       "      <td>0.375000</td>\n",
       "    </tr>\n",
       "  </tbody>\n",
       "</table>\n",
       "</div>"
      ],
      "text/plain": [
       "    Year  Mean papers per author\n",
       "0   2002                0.422383\n",
       "1   2003                0.449686\n",
       "2   2004                0.418182\n",
       "3   2005                0.455516\n",
       "4   2006                0.433824\n",
       "5   2007                0.438596\n",
       "6   2008                0.386364\n",
       "7   2009                0.397394\n",
       "8   2010                0.449198\n",
       "9   2011                0.439791\n",
       "10  2012                0.405941\n",
       "11  2013                0.407407\n",
       "12  2014                0.350993\n",
       "13  2015                0.375000"
      ]
     },
     "execution_count": 16,
     "metadata": {},
     "output_type": "execute_result"
    }
   ],
   "source": [
    "pd.DataFrame(yt.items(), columns=['Year', 'Mean papers per author'])"
   ]
  },
  {
   "cell_type": "markdown",
   "metadata": {},
   "source": [
    "# 4. Mean authors per paper"
   ]
  },
  {
   "cell_type": "code",
   "execution_count": 17,
   "metadata": {
    "collapsed": true
   },
   "outputs": [],
   "source": [
    "mean_au_per_paper = {}\n",
    "for year in yt.keys():\n",
    "    mean_au_per_paper[year] = 1/yt[year]"
   ]
  },
  {
   "cell_type": "code",
   "execution_count": 18,
   "metadata": {
    "collapsed": false
   },
   "outputs": [
    {
     "data": {
      "text/plain": [
       "<matplotlib.text.Text at 0x107c6c7d0>"
      ]
     },
     "execution_count": 18,
     "metadata": {},
     "output_type": "execute_result"
    },
    {
     "data": {
      "image/png": "[encoded data removed]",
      "text/plain": [
       "<matplotlib.figure.Figure at 0x10acb1350>"
      ]
     },
     "metadata": {},
     "output_type": "display_data"
    }
   ],
   "source": [
    "plt.plot(mean_au_per_paper.keys(), mean_au_per_paper.values())\n",
    "plt.ylabel('Mean papers per author')\n",
    "plt.xlabel('Year')"
   ]
  },
  {
   "cell_type": "code",
   "execution_count": 19,
   "metadata": {
    "collapsed": false
   },
   "outputs": [
    {
     "data": {
      "text/html": [
       "<div>\n",
       "<table border=\"1\" class=\"dataframe\">\n",
       "  <thead>\n",
       "    <tr style=\"text-align: right;\">\n",
       "      <th></th>\n",
       "      <th>Year</th>\n",
       "      <th>Mean authors per paper</th>\n",
       "    </tr>\n",
       "  </thead>\n",
       "  <tbody>\n",
       "    <tr>\n",
       "      <th>0</th>\n",
       "      <td>2002</td>\n",
       "      <td>2.367521</td>\n",
       "    </tr>\n",
       "    <tr>\n",
       "      <th>1</th>\n",
       "      <td>2003</td>\n",
       "      <td>2.223776</td>\n",
       "    </tr>\n",
       "    <tr>\n",
       "      <th>2</th>\n",
       "      <td>2004</td>\n",
       "      <td>2.391304</td>\n",
       "    </tr>\n",
       "    <tr>\n",
       "      <th>3</th>\n",
       "      <td>2005</td>\n",
       "      <td>2.195312</td>\n",
       "    </tr>\n",
       "    <tr>\n",
       "      <th>4</th>\n",
       "      <td>2006</td>\n",
       "      <td>2.305085</td>\n",
       "    </tr>\n",
       "    <tr>\n",
       "      <th>5</th>\n",
       "      <td>2007</td>\n",
       "      <td>2.280000</td>\n",
       "    </tr>\n",
       "    <tr>\n",
       "      <th>6</th>\n",
       "      <td>2008</td>\n",
       "      <td>2.588235</td>\n",
       "    </tr>\n",
       "    <tr>\n",
       "      <th>7</th>\n",
       "      <td>2009</td>\n",
       "      <td>2.516393</td>\n",
       "    </tr>\n",
       "    <tr>\n",
       "      <th>8</th>\n",
       "      <td>2010</td>\n",
       "      <td>2.226190</td>\n",
       "    </tr>\n",
       "    <tr>\n",
       "      <th>9</th>\n",
       "      <td>2011</td>\n",
       "      <td>2.273810</td>\n",
       "    </tr>\n",
       "    <tr>\n",
       "      <th>10</th>\n",
       "      <td>2012</td>\n",
       "      <td>2.463415</td>\n",
       "    </tr>\n",
       "    <tr>\n",
       "      <th>11</th>\n",
       "      <td>2013</td>\n",
       "      <td>2.454545</td>\n",
       "    </tr>\n",
       "    <tr>\n",
       "      <th>12</th>\n",
       "      <td>2014</td>\n",
       "      <td>2.849057</td>\n",
       "    </tr>\n",
       "    <tr>\n",
       "      <th>13</th>\n",
       "      <td>2015</td>\n",
       "      <td>2.666667</td>\n",
       "    </tr>\n",
       "  </tbody>\n",
       "</table>\n",
       "</div>"
      ],
      "text/plain": [
       "    Year  Mean authors per paper\n",
       "0   2002                2.367521\n",
       "1   2003                2.223776\n",
       "2   2004                2.391304\n",
       "3   2005                2.195312\n",
       "4   2006                2.305085\n",
       "5   2007                2.280000\n",
       "6   2008                2.588235\n",
       "7   2009                2.516393\n",
       "8   2010                2.226190\n",
       "9   2011                2.273810\n",
       "10  2012                2.463415\n",
       "11  2013                2.454545\n",
       "12  2014                2.849057\n",
       "13  2015                2.666667"
      ]
     },
     "execution_count": 19,
     "metadata": {},
     "output_type": "execute_result"
    }
   ],
   "source": [
    "pd.DataFrame(mean_au_per_paper.items(), columns=['Year', 'Mean authors per paper'])"
   ]
  },
  {
   "cell_type": "markdown",
   "metadata": {},
   "source": [
    "# 5. Collaborators per author"
   ]
  },
  {
   "cell_type": "code",
   "execution_count": 20,
   "metadata": {
    "collapsed": true
   },
   "outputs": [],
   "source": [
    "g = author_network(papers, 0, 2015)"
   ]
  },
  {
   "cell_type": "code",
   "execution_count": 21,
   "metadata": {
    "collapsed": false
   },
   "outputs": [
    {
     "data": {
      "image/png": "[encoded data removed]",
      "text/plain": [
       "<matplotlib.figure.Figure at 0x10b0360d0>"
      ]
     },
     "metadata": {},
     "output_type": "display_data"
    }
   ],
   "source": [
    "plt.hist(g.degree().values(), bins=200)\n",
    "plt.title(\"DAC Network\")\n",
    "plt.xlabel(\"Number of collaborators\")\n",
    "plt.ylabel(\"Frequency\")\n",
    "plt.show()"
   ]
  },
  {
   "cell_type": "code",
   "execution_count": 22,
   "metadata": {
    "collapsed": true
   },
   "outputs": [],
   "source": [
    "degree_under_15 = [i for i in g.degree().values() if i <= 15]"
   ]
  },
  {
   "cell_type": "code",
   "execution_count": 23,
   "metadata": {
    "collapsed": false
   },
   "outputs": [
    {
     "data": {
      "image/png": "[encoded data removed]",
      "text/plain": [
       "<matplotlib.figure.Figure at 0x10b135390>"
      ]
     },
     "metadata": {},
     "output_type": "display_data"
    }
   ],
   "source": [
    "plt.hist(degree_under_15, bins=30)\n",
    "plt.title(\"DAC Network\")\n",
    "plt.xlabel(\"Number of collaborators\")\n",
    "plt.ylabel(\"Frequency\")\n",
    "plt.show()"
   ]
  },
  {
   "cell_type": "markdown",
   "metadata": {},
   "source": [
    "# 6. Size of giant component"
   ]
  },
  {
   "cell_type": "code",
   "execution_count": 24,
   "metadata": {
    "collapsed": true
   },
   "outputs": [],
   "source": [
    "def size_of_giant_component(inf_year, sup_year):\n",
    "    g = author_network(papers, inf_year, sup_year)\n",
    "    cc = nx.connected_component_subgraphs(g)\n",
    "    comps = [len(c) for c in sorted(nx.connected_components(g), key=len, reverse=True)]\n",
    "    return comps[0]"
   ]
  },
  {
   "cell_type": "code",
   "execution_count": 25,
   "metadata": {
    "collapsed": false
   },
   "outputs": [
    {
     "data": {
      "text/plain": [
       "1191"
      ]
     },
     "execution_count": 25,
     "metadata": {},
     "output_type": "execute_result"
    }
   ],
   "source": [
    "size_of_giant_component(0, 2015)"
   ]
  },
  {
   "cell_type": "code",
   "execution_count": 26,
   "metadata": {
    "collapsed": false
   },
   "outputs": [
    {
     "name": "stdout",
     "output_type": "stream",
     "text": [
      "2002 9\n",
      "2003 17\n",
      "2004 12\n",
      "2005 16\n",
      "2006 50\n",
      "2007 10\n",
      "2008 20\n",
      "2009 30\n",
      "2010 32\n",
      "2011 20\n",
      "2012 13\n",
      "2013 15\n",
      "2014 16\n",
      "2015 12\n"
     ]
    }
   ],
   "source": [
    "for year in range(2002, 2016):\n",
    "    print year, size_of_giant_component(year, year)"
   ]
  },
  {
   "cell_type": "markdown",
   "metadata": {},
   "source": [
    "# 7. Second largest component "
   ]
  },
  {
   "cell_type": "code",
   "execution_count": 27,
   "metadata": {
    "collapsed": true
   },
   "outputs": [],
   "source": [
    "def size_of_2nd_largest_component(inf_year, sup_year):\n",
    "    g = author_network(papers, inf_year, sup_year)\n",
    "    cc = nx.connected_component_subgraphs(g)\n",
    "    comps = [len(c) for c in sorted(nx.connected_components(g), key=len, reverse=True)]\n",
    "    return comps[1]"
   ]
  },
  {
   "cell_type": "code",
   "execution_count": 28,
   "metadata": {
    "collapsed": false
   },
   "outputs": [
    {
     "name": "stdout",
     "output_type": "stream",
     "text": [
      "2002 7\n",
      "2003 11\n",
      "2004 12\n",
      "2005 15\n",
      "2006 22\n",
      "2007 10\n",
      "2008 13\n",
      "2009 16\n",
      "2010 20\n",
      "2011 15\n",
      "2012 12\n",
      "2013 10\n",
      "2014 12\n",
      "2015 12\n"
     ]
    }
   ],
   "source": [
    "for year in range(2002, 2016):\n",
    "    print year, size_of_2nd_largest_component(year, year)"
   ]
  },
  {
   "cell_type": "markdown",
   "metadata": {},
   "source": [
    "# 8. Mean distance"
   ]
  },
  {
   "cell_type": "code",
   "execution_count": 30,
   "metadata": {
    "collapsed": true
   },
   "outputs": [],
   "source": [
    "def mean_dist_year(starting_yr, ending_yr):\n",
    "    g = author_network(papers, starting_yr, ending_yr)\n",
    "    \n",
    "    nodes = g.nodes()\n",
    "    pairs = make_pairs(nodes)\n",
    "\n",
    "    dist_list = []\n",
    "    for p in pairs:\n",
    "        try:\n",
    "            dist_list.append(nx.shortest_path_length(g, source = str(p[0]), target = str(p[1])))\n",
    "        except:\n",
    "            pass\n",
    "\n",
    "    return float(sum(dist_list))/len(dist_list)"
   ]
  },
  {
   "cell_type": "code",
   "execution_count": 35,
   "metadata": {
    "collapsed": false
   },
   "outputs": [
    {
     "name": "stderr",
     "output_type": "stream",
     "text": [
      "0%          100%\n",
      "[##############] | ETA: 00:00:00\n",
      "Total time elapsed: 00:00:05\n"
     ]
    }
   ],
   "source": [
    "mean_dists = {}\n",
    "\n",
    "n = 14\n",
    "bar = pyprind.ProgBar(n)\n",
    "\n",
    "for ending in range(2002, 2016):\n",
    "    bar.update()\n",
    "    mean_dists[ending] = mean_dist_year(ending, ending)"
   ]
  },
  {
   "cell_type": "code",
   "execution_count": 36,
   "metadata": {
    "collapsed": false
   },
   "outputs": [
    {
     "data": {
      "text/plain": [
       "{2002: 1.2137592137592137,\n",
       " 2003: 1.5094043887147335,\n",
       " 2004: 1.4327586206896552,\n",
       " 2005: 1.6130867709815078,\n",
       " 2006: 2.756365740740741,\n",
       " 2007: 1.3485915492957747,\n",
       " 2008: 1.3961424332344214,\n",
       " 2009: 1.752808988764045,\n",
       " 2010: 1.946969696969697,\n",
       " 2011: 1.562396006655574,\n",
       " 2012: 1.4226190476190477,\n",
       " 2013: 1.3417721518987342,\n",
       " 2014: 1.459090909090909,\n",
       " 2015: 1.3496598639455781}"
      ]
     },
     "execution_count": 36,
     "metadata": {},
     "output_type": "execute_result"
    }
   ],
   "source": [
    "mean_dists"
   ]
  },
  {
   "cell_type": "code",
   "execution_count": 37,
   "metadata": {
    "collapsed": false
   },
   "outputs": [
    {
     "data": {
      "text/plain": [
       "<matplotlib.text.Text at 0x10cccba90>"
      ]
     },
     "execution_count": 37,
     "metadata": {},
     "output_type": "execute_result"
    },
    {
     "data": {
      "image/png": "[encoded data removed]",
      "text/plain": [
       "<matplotlib.figure.Figure at 0x10bf04a50>"
      ]
     },
     "metadata": {},
     "output_type": "display_data"
    }
   ],
   "source": [
    "plt.plot(mean_dists.keys(), mean_dists.values())\n",
    "plt.ylabel('Mean Distance')\n",
    "plt.xlabel('Year')"
   ]
  },
  {
   "cell_type": "markdown",
   "metadata": {},
   "source": [
    "# 9. Maximum distance"
   ]
  },
  {
   "cell_type": "code",
   "execution_count": 49,
   "metadata": {
    "collapsed": true
   },
   "outputs": [],
   "source": [
    "def max_dist_year(starting_yr, ending_yr):\n",
    "    g = author_network(papers, starting_yr, ending_yr)\n",
    "    \n",
    "    nodes = g.nodes()\n",
    "    pairs = make_pairs(nodes)\n",
    "\n",
    "    dist_list = []\n",
    "    for p in pairs:\n",
    "        try:\n",
    "            dist_list.append(nx.shortest_path_length(g, source = str(p[0]), target = str(p[1])))\n",
    "        except:\n",
    "            pass\n",
    "\n",
    "    return max(dist_list)"
   ]
  },
  {
   "cell_type": "code",
   "execution_count": 50,
   "metadata": {
    "collapsed": false
   },
   "outputs": [
    {
     "name": "stderr",
     "output_type": "stream",
     "text": [
      "0%          100%\n",
      "[##############] | ETA: 00:00:00\n",
      "Total time elapsed: 00:00:05\n"
     ]
    }
   ],
   "source": [
    "max_dists = {}\n",
    "\n",
    "n = 14\n",
    "bar = pyprind.ProgBar(n)\n",
    "\n",
    "for ending in range(2002, 2016):\n",
    "    bar.update()\n",
    "    max_dists[ending] = max_dist_year(ending, ending)"
   ]
  },
  {
   "cell_type": "code",
   "execution_count": 51,
   "metadata": {
    "collapsed": false
   },
   "outputs": [
    {
     "data": {
      "text/plain": [
       "<matplotlib.text.Text at 0x10aed6ad0>"
      ]
     },
     "execution_count": 51,
     "metadata": {},
     "output_type": "execute_result"
    },
    {
     "data": {
      "image/png": "[encoded data removed]",
      "text/plain": [
       "<matplotlib.figure.Figure at 0x10abab050>"
      ]
     },
     "metadata": {},
     "output_type": "display_data"
    }
   ],
   "source": [
    "plt.plot(max_dists.keys(), max_dists.values())\n",
    "plt.ylabel('Max Distance')\n",
    "plt.xlabel('Year')"
   ]
  },
  {
   "cell_type": "markdown",
   "metadata": {},
   "source": [
    "# 10. Clustering coefficient C"
   ]
  },
  {
   "cell_type": "code",
   "execution_count": 42,
   "metadata": {
    "collapsed": true
   },
   "outputs": [],
   "source": [
    "def clustering_coefficient_year(starting_yr, ending_yr):\n",
    "    g = author_network(papers, starting_yr, ending_yr)\n",
    "    return nx.average_clustering(g)"
   ]
  },
  {
   "cell_type": "code",
   "execution_count": 43,
   "metadata": {
    "collapsed": false
   },
   "outputs": [
    {
     "name": "stderr",
     "output_type": "stream",
     "text": [
      "0%          100%\n",
      "[##############] | ETA: 00:00:00\n",
      "Total time elapsed: 00:00:00\n"
     ]
    }
   ],
   "source": [
    "clustering_coefficients = {}\n",
    "\n",
    "n = 14\n",
    "bar = pyprind.ProgBar(n)\n",
    "\n",
    "for ending in range(2002, 2016):\n",
    "    bar.update()\n",
    "    clustering_coefficients[ending] = clustering_coefficient_year(ending, ending)"
   ]
  },
  {
   "cell_type": "code",
   "execution_count": 44,
   "metadata": {
    "collapsed": false
   },
   "outputs": [
    {
     "data": {
      "text/plain": [
       "{2002: 0.6217637957710159,\n",
       " 2003: 0.6510107816711589,\n",
       " 2004: 0.647267217630854,\n",
       " 2005: 0.6128400662208492,\n",
       " 2006: 0.69583725527998,\n",
       " 2007: 0.6579420774157615,\n",
       " 2008: 0.7452695591793338,\n",
       " 2009: 0.6986596889868382,\n",
       " 2010: 0.7448439558065226,\n",
       " 2011: 0.7462553444228837,\n",
       " 2012: 0.7244417298872746,\n",
       " 2013: 0.7371627549405326,\n",
       " 2014: 0.7270491098305669,\n",
       " 2015: 0.779446960203539}"
      ]
     },
     "execution_count": 44,
     "metadata": {},
     "output_type": "execute_result"
    }
   ],
   "source": [
    "clustering_coefficients"
   ]
  },
  {
   "cell_type": "code",
   "execution_count": 47,
   "metadata": {
    "collapsed": false
   },
   "outputs": [
    {
     "data": {
      "text/plain": [
       "<matplotlib.text.Text at 0x10bf04e90>"
      ]
     },
     "execution_count": 47,
     "metadata": {},
     "output_type": "execute_result"
    },
    {
     "data": {
      "image/png": "[encoded data removed]",
      "text/plain": [
       "<matplotlib.figure.Figure at 0x10ccc1110>"
      ]
     },
     "metadata": {},
     "output_type": "display_data"
    }
   ],
   "source": [
    "plt.plot(clustering_coefficients.keys(), clustering_coefficients.values())\n",
    "plt.ylabel('clustering coefficients')\n",
    "plt.xlabel('Year')"
   ]
  },
  {
   "cell_type": "markdown",
   "metadata": {},
   "source": [
    "# 11. Link Prediction"
   ]
  },
  {
   "cell_type": "code",
   "execution_count": 79,
   "metadata": {
    "collapsed": true
   },
   "outputs": [],
   "source": [
    "def jaccard_coefficient_year(starting_yr, ending_yr):\n",
    "    g = author_network(papers, starting_yr, ending_yr)\n",
    "    preds = nx.jaccard_coefficient(g)\n",
    "    return preds"
   ]
  },
  {
   "cell_type": "code",
   "execution_count": 108,
   "metadata": {
    "collapsed": false
   },
   "outputs": [],
   "source": [
    "def similar_authors(aid):\n",
    "    result = {}\n",
    "    preds = jaccard_coefficient_year(2002, 2015)\n",
    "    for pred in preds:\n",
    "        if aid in pred:\n",
    "            if pred[2] > 0:\n",
    "                for partner in pred[0:2]:\n",
    "                    if partner != aid:\n",
    "                        result[partner] = pred[2]\n",
    "    \n",
    "    sorted_result = sorted(result.items(), key=operator.itemgetter(1), reverse=True)\n",
    "    for res in sorted_result:\n",
    "        name = display_author(authors, res[0])['name']\n",
    "        score = res[1]\n",
    "        print name, score\n",
    "    return sorted_result"
   ]
  },
  {
   "cell_type": "code",
   "execution_count": 111,
   "metadata": {
    "collapsed": false
   },
   "outputs": [
    {
     "name": "stdout",
     "output_type": "stream",
     "text": [
      "Jing Li 0.125\n",
      "Bart D. Frischknecht 0.105263157895\n",
      "Alexis Perez-Duarte 0.105263157895\n",
      "Zhijun Li 0.1\n",
      "Richard Gerth 0.1\n",
      "Honglak Lee 0.1\n",
      "Luis E. Izquierdo 0.1\n",
      "Matthew P. Reed 0.0952380952381\n",
      "Ryan Fellini 0.0952380952381\n",
      "Alex Burnap 0.0952380952381\n",
      "Yi Ren 0.0869565217391\n",
      "Huibin Liu 0.0869565217391\n",
      "W. Ross Morrow 0.0869565217391\n",
      "Dorin Drignei 0.0833333333333\n",
      "Vijitashwa Pandey 0.0769230769231\n",
      "S. Jack Hu 0.0689655172414\n",
      "Matthew B. Parkinson 0.0689655172414\n",
      "Harrison M. Kim 0.0689655172414\n",
      "Zissimos P. Mourelatos 0.0652173913043\n",
      "Le Chen 0.0555555555556\n",
      "Cassio D. Goncalves 0.0555555555556\n",
      "Jeongwoo Han 0.0555555555556\n",
      "Subroto Gunawan 0.0555555555556\n",
      "Gautam Marwaha 0.0555555555556\n",
      "Bastien Talgorn 0.0526315789474\n",
      "Sébastien Le Digabel 0.0526315789474\n",
      "Joshua Mineroff 0.0526315789474\n",
      "Minhua Long 0.0526315789474\n",
      "Clayton Scott 0.0526315789474\n",
      "Andreas A. Malikopoulos 0.0526315789474\n",
      "Fred M. Feinberg 0.0526315789474\n",
      "Yoram Koren 0.05\n",
      "Oben Ceryan 0.05\n",
      "Adam B. Cooper 0.05\n",
      "John W. Whitefoot 0.05\n",
      "Namwoo Kang 0.05\n",
      "Diane L. Peters 0.05\n",
      "Alparslan Emrah Bayrak 0.05\n",
      "Abigail R. Mechtenberg 0.05\n",
      "Benjamin Thomsen 0.05\n",
      "Hyung Min Kim 0.05\n",
      "Tomas Månsson 0.05\n",
      "Steven J. Skerlos 0.05\n",
      "Matthew P. Castanier 0.047619047619\n",
      "Lee J. Wells 0.047619047619\n",
      "Annette Skowronska 0.047619047619\n",
      "Grzegorz Koscik 0.047619047619\n",
      "Pierre Goovaerts 0.047619047619\n",
      "Min-Yeong Moon 0.0454545454545\n",
      "Panayotis Georgiopoulos 0.0454545454545\n",
      "S. Barbat 0.0454545454545\n",
      "H. Sarin 0.0454545454545\n",
      "G. Hulbert 0.0454545454545\n",
      "M. Kokkolaras 0.0454545454545\n",
      "Liu Du 0.0434782608696\n",
      "Ola Isaksson 0.0434782608696\n",
      "Michael Sasena 0.0434782608696\n",
      "Nicholas J. Gaul 0.0434782608696\n",
      "Hyunkyoo Cho 0.0416666666667\n",
      "Kuei-Yuan Chan 0.04\n",
      "Liang Zhao 0.04\n",
      "Yoojeong Noh 0.04\n",
      "Tucker J. Marion 0.0384615384615\n",
      "Dennis N. Assanis 0.0384615384615\n",
      "R. J. Yang 0.0384615384615\n",
      "David Lamb 0.037037037037\n",
      "Katja Hölttä-Otto 0.0357142857143\n",
      "Ikjin Lee 0.0333333333333\n",
      "Olivier de Weck 0.0333333333333\n",
      "K. K. Choi 0.0333333333333\n",
      "Kyung K. Choi 0.0322580645161\n",
      "Zhimin Xi 0.03125\n",
      "Steve B. Shooter 0.030303030303\n",
      "Byeng D. Youn 0.0285714285714\n",
      "Pingfeng Wang 0.0277777777778\n",
      "Jeremy J. Michalek 0.0263157894737\n",
      "Wei Chen 0.0243902439024\n",
      "Timothy W. Simpson 0.00980392156863\n"
     ]
    }
   ],
   "source": [
    "info = similar_authors('3')"
   ]
  },
  {
   "cell_type": "code",
   "execution_count": null,
   "metadata": {
    "collapsed": true
   },
   "outputs": [],
   "source": []
  }
 ],
 "metadata": {
  "kernelspec": {
   "display_name": "Python 2",
   "language": "python",
   "name": "python2"
  },
  "language_info": {
   "codemirror_mode": {
    "name": "ipython",
    "version": 2
   },
   "file_extension": ".py",
   "mimetype": "text/x-python",
   "name": "python",
   "nbconvert_exporter": "python",
   "pygments_lexer": "ipython2",
   "version": "2.7.11"
  }
 },
 "nbformat": 4,
 "nbformat_minor": 0
}
