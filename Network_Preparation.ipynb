{
 "cells": [
  {
   "cell_type": "code",
   "execution_count": 1,
   "metadata": {
    "collapsed": true
   },
   "outputs": [],
   "source": [
    "import json"
   ]
  },
  {
   "cell_type": "code",
   "execution_count": 2,
   "metadata": {
    "collapsed": false
   },
   "outputs": [],
   "source": [
    "class Author():\n",
    "    def __init__(self, name, aid):\n",
    "        self.name = name\n",
    "        self.aid = aid\n",
    "        self.nicknames = []\n",
    "        self.paper_ids = []\n",
    "    \n",
    "    def add_paper(self, pid):\n",
    "        if pid not in self.paper_ids:\n",
    "            self.paper_ids.append(pid)\n",
    "            \n",
    "    def add_nickname(self, name):\n",
    "        if name not in self.nicknames:\n",
    "            self.nicknames.append(name)\n",
    "        "
   ]
  },
  {
   "cell_type": "code",
   "execution_count": 3,
   "metadata": {
    "collapsed": true
   },
   "outputs": [],
   "source": [
    "class Paper():\n",
    "    def __init__(self, title, abstract, year, author_names, b_topic, topics, pid, detc, url):\n",
    "        \n",
    "        # Basic info\n",
    "        self.title = title\n",
    "        self.abstract = abstract\n",
    "        self.year = year\n",
    "        self.author_names = author_names\n",
    "        self.broad_topic = b_topic\n",
    "        self.topics = topics\n",
    "        self.pid = pid\n",
    "        self.detc = detc\n",
    "        self.url = url\n",
    "        \n",
    "        # add later\n",
    "        self.author_ids = []\n",
    "        self.citations = []\n",
    "        self.cited_by = []\n",
    "    \n",
    "    def add_author_id(self, aid):\n",
    "        if aid not in self.author_ids:\n",
    "            self.author_ids.append(aid)\n",
    "        "
   ]
  },
  {
   "cell_type": "markdown",
   "metadata": {
    "collapsed": true
   },
   "source": [
    "## 1. Read papers "
   ]
  },
  {
   "cell_type": "code",
   "execution_count": 4,
   "metadata": {
    "collapsed": false
   },
   "outputs": [],
   "source": [
    "file_path = \"data/DAC_Entire_DataBase.json\"\n",
    "\n",
    "with open(file_path, \"r\") as f:\n",
    "    database = json.load(f)"
   ]
  },
  {
   "cell_type": "code",
   "execution_count": 5,
   "metadata": {
    "collapsed": false
   },
   "outputs": [],
   "source": [
    "papers = {}\n",
    "for p in database:\n",
    "    paper = Paper(p['Title'], p['Abstract'],p['Year'],p['Authors'], p['Broad_Topic'],\\\n",
    "                  p['Topics'], p['PaperID'],p['DETC'], p['URL'])\n",
    "    papers[paper.pid] = paper"
   ]
  },
  {
   "cell_type": "markdown",
   "metadata": {},
   "source": [
    "## 2. Read authors"
   ]
  },
  {
   "cell_type": "code",
   "execution_count": 6,
   "metadata": {
    "collapsed": false
   },
   "outputs": [],
   "source": [
    "## add author into the dataset\n",
    "author_names = {}\n",
    "\n",
    "for p in papers.values():\n",
    "    for n in p.author_names:\n",
    "        author_names[n] = 1"
   ]
  },
  {
   "cell_type": "code",
   "execution_count": 7,
   "metadata": {
    "collapsed": false
   },
   "outputs": [],
   "source": [
    "# Assign IDs to each author\n",
    "\n",
    "id = 0\n",
    "for n in author_names.keys():\n",
    "    author_names[n] = str(id)\n",
    "    id += 1"
   ]
  },
  {
   "cell_type": "code",
   "execution_count": 8,
   "metadata": {
    "collapsed": true
   },
   "outputs": [],
   "source": [
    "authors = {}\n",
    "\n",
    "for name in author_names.keys():\n",
    "    authors[author_names[name]] = Author(name, author_names[name])"
   ]
  },
  {
   "cell_type": "code",
   "execution_count": 9,
   "metadata": {
    "collapsed": false
   },
   "outputs": [],
   "source": [
    "def make_name_to_author_dict(authors):\n",
    "    ret = {}\n",
    "    for author in authors.values():\n",
    "        ret[author.name] = author\n",
    "    return ret"
   ]
  },
  {
   "cell_type": "markdown",
   "metadata": {},
   "source": [
    "## 3. Build Connection (between author and paper)"
   ]
  },
  {
   "cell_type": "code",
   "execution_count": null,
   "metadata": {
    "collapsed": true
   },
   "outputs": [],
   "source": [
    "name2author = make_name_to_author_dict(authors)"
   ]
  },
  {
   "cell_type": "markdown",
   "metadata": {},
   "source": [
    "### Let each author has paper_id list"
   ]
  },
  {
   "cell_type": "code",
   "execution_count": 10,
   "metadata": {
    "collapsed": false
   },
   "outputs": [],
   "source": [
    "for paper in papers.values():\n",
    "    for name in paper.author_names:\n",
    "        author = name2author[name]\n",
    "        \n",
    "        author.add_paper(paper.pid)"
   ]
  },
  {
   "cell_type": "markdown",
   "metadata": {},
   "source": [
    "### Let each paper has author_id list"
   ]
  },
  {
   "cell_type": "code",
   "execution_count": 11,
   "metadata": {
    "collapsed": false
   },
   "outputs": [],
   "source": [
    "for paper in papers.values():\n",
    "    for name in paper.author_names:\n",
    "        paper.add_author_id(name2author[name].aid)"
   ]
  },
  {
   "cell_type": "markdown",
   "metadata": {},
   "source": [
    "## 4. Name Disambiguation"
   ]
  },
  {
   "cell_type": "markdown",
   "metadata": {},
   "source": [
    "### Detect similar name pairs\n",
    "\n",
    "Running the following cell will generate lines of similar names. Each line is formatted as \"author_id, name, author_id, name\". For each line, it the two are indeed similar, them copy and paste the line into data/disambiguation.txt file."
   ]
  },
  {
   "cell_type": "code",
   "execution_count": 15,
   "metadata": {
    "collapsed": false
   },
   "outputs": [
    {
     "name": "stdout",
     "output_type": "stream",
     "text": [
      "3\tJames Allison\t463\tJames T. Allison\n",
      "5\tDavid J. Gorsich\t1759\tDavid Gorsich\n",
      "8\tQ. Cheng\t608\tHeidi Q. Chen\n",
      "10\tSteve C. Wang\t253\tC. Wang\n",
      "11\tNiclas Stromberg\t679\tNiclas Strömberg\n",
      "12\tYu Gu\t1219\tP. Gu\n",
      "12\tYu Gu\t933\tJ. Gu\n",
      "12\tYu Gu\t987\tYu Liu\n",
      "12\tYu Gu\t1598\tXu Guo\n",
      "12\tYu Gu\t2385\tY. Fu\n",
      "1219\tP. Gu\t95\tC. Yu\n",
      "1219\tP. Gu\t933\tJ. Gu\n",
      "1219\tP. Gu\t941\tAshwin P. Gurnani\n",
      "1219\tP. Gu\t1859\tW. Hu\n",
      "1219\tP. Gu\t2385\tY. Fu\n",
      "22\tLe Chen\t502\tJie Chen\n",
      "22\tLe Chen\t692\tKen Chen\n",
      "22\tLe Chen\t1406\tWei Chen\n",
      "22\tLe Chen\t2002\tLi Chen\n",
      "22\tLe Chen\t2277\tWen Chen\n",
      "31\tJ.-C. Léon\t2444\tJ. C. Léon\n",
      "40\tAshraf Nassef\t1397\tAshraf O. Nassef\n",
      "47\tZhe Zhang\t1553\tJie Zhang\n",
      "50\tJohn Ziegert\t1370\tJohn C. Ziegert\n",
      "51\tShen Lu\t2242\tZhen Hu\n",
      "58\tMian Li\t116\tXiang Li\n",
      "58\tMian Li\t458\tJia Li\n",
      "58\tMian Li\t929\tMeifang Li\n",
      "58\tMian Li\t1305\tYan Li\n",
      "58\tMian Li\t1332\tMing Li\n",
      "48\tI. Horváth\t1723\tImre Horváth\n",
      "511\tWeijun Wang\t1284\tLi-jun Wang\n",
      "74\tV. Krishnamurthy\t772\tVivek Krishnamurthy\n",
      "77\tJames L. Mathieson\t2350\tJames J. Mason\n",
      "82\tJunfu Zhang\t1680\tJun Zhang\n",
      "91\tChao Qi\t1640\tChao Xu\n",
      "91\tChao Qi\t2026\tChao Hu\n",
      "93\tT. R. Langerak\t1033\tThomas R. Langerak\n",
      "94\tSinobu Yoshimura\t314\tShinobu Yoshimura\n",
      "94\tSinobu Yoshimura\t2161\tYu Yoshimura\n",
      "95\tC. Yu\t933\tJ. Gu\n",
      "95\tC. Yu\t1859\tW. Hu\n",
      "95\tC. Yu\t2385\tY. Fu\n",
      "116\tXiang Li\t434\tJing Li\n",
      "116\tXiang Li\t815\tYang Li\n",
      "116\tXiang Li\t1332\tMing Li\n",
      "118\tJing Han\t1227\tJing Wang\n",
      "124\tRobert R. Parker\t85\tRobert R. Mayer\n",
      "127\tKemper E. Lewis\t382\tKemper Lewis\n",
      "129\tYang Wang\t1032\tYan Wang\n",
      "129\tYang Wang\t1227\tJing Wang\n",
      "129\tYang Wang\t1403\tYong Wang\n",
      "137\tRichard H. Crawford\t1682\tRichard Crawford\n",
      "141\tChung-Yi Lin\t708\tChun-Yu Lin\n",
      "145\tSamuel Drake\t664\tSam Drake\n",
      "152\tKai Liu\t384\tNan Liu\n",
      "152\tKai Liu\t1422\tWei Liu\n",
      "152\tKai Liu\t1592\tLi Liu\n",
      "156\tBryony L. Du Pont\t499\tBryony L. DuPont\n",
      "156\tBryony L. Du Pont\t1766\tBryony DuPont\n",
      "161\tC. G. Jensen\t1863\tC. Greg Jensen\n",
      "163\tA. Farhang-Mehr\t697\tAli Farhang-Mehr\n",
      "163\tA. Farhang-Mehr\t2073\tAli Farhang Mehr\n",
      "166\tSundar Krishnamurthy\t231\tAdarsh Krishnamurthy\n",
      "166\tSundar Krishnamurthy\t1017\tSundar Krishnamurty\n",
      "166\tSundar Krishnamurthy\t2280\tAnand Krishnamurthy\n",
      "168\tQ. Z. Yang\t1303\tJ. C. Yang\n",
      "168\tQ. Z. Yang\t1760\tR. J. Yang\n",
      "169\tYing Xiong\t1328\tJing Xiong\n",
      "173\tThomas Stone\t2086\tThomas M. Stone\n",
      "175\tYinghong Peng\t2426\tYonghong Peng\n",
      "176\tFrank W. Liou\t2181\tFrank Liou\n",
      "177\tZhi-Gang Xu\t269\tZhi Gang Xu\n",
      "180\tIan Tseng\t2003\tIan H. Tseng\n",
      "190\tKang Zhao\t1453\tDong Zhao\n",
      "190\tKang Zhao\t2001\tLiang Zhao\n",
      "199\tKristin L. Wood\t1888\tKristin Wood\n",
      "214\tSara E. Lego\t1702\tSara Lego\n",
      "217\tMohamed M. Saada\t321\tMohamed M. Shalaby\n",
      "223\tMohamed El-Morsi\t1739\tMohamed El Morsi\n",
      "231\tAdarsh Krishnamurthy\t1017\tSundar Krishnamurty\n",
      "231\tAdarsh Krishnamurthy\t2280\tAnand Krishnamurthy\n",
      "232\tFeng Zhou\t1854\tHong Zhou\n",
      "232\tFeng Zhou\t2247\tCheng Feng Zhu\n",
      "243\tAdel Younis\t1807\tAdel A. Younis\n",
      "251\tM. F. Horstemeyer\t193\tMark F. Horstemeyer\n",
      "253\tC. Wang\t893\tH. Wang\n",
      "253\tC. Wang\t1038\tH. Yang\n",
      "253\tC. Wang\t1077\tZ. Wang\n",
      "253\tC. Wang\t1255\tBo Wang\n",
      "253\tC. Wang\t1713\tL. Wang\n",
      "253\tC. Wang\t2259\tLv Wang\n",
      "253\tC. Wang\t2305\tY. Kang\n",
      "254\tPanos Y. Papalambros\t758\tPanos Papalambros\n",
      "254\tPanos Y. Papalambros\t1447\tP. Papalambros\n",
      "255\tYan Fu\t1305\tYan Li\n",
      "255\tYan Fu\t2385\tY. Fu\n",
      "286\tDeepak Sharma\t1452\tDeepak Sivaraman\n",
      "290\tCharlie Manion\t460\tCharles A. Manion\n",
      "295\tY. Rong\t477\tG. Hong\n",
      "295\tY. Rong\t2080\tYu Song\n",
      "295\tY. Rong\t2305\tY. Kang\n",
      "295\tY. Rong\t2358\tZ. Dong\n",
      "295\tY. Rong\t2478\tY. Song\n",
      "314\tShinobu Yoshimura\t2161\tYu Yoshimura\n",
      "2224\tJihun Kim\t2108\tJi Sun Kim\n",
      "321\tMohamed M. Shalaby\t1009\tMohammed Shalaby\n",
      "326\tFang Liu\t384\tNan Liu\n",
      "326\tFang Liu\t503\tYing Liu\n",
      "326\tFang Liu\t815\tYang Li\n",
      "326\tFang Liu\t1184\tAng Liu\n",
      "329\tYi Miao\t1114\tMi Xiao\n",
      "2166\tEliot Winer\t2159\tEliot H. Winer\n",
      "334\tJun Liu\t384\tNan Liu\n",
      "334\tJun Liu\t856\tJun Shu\n",
      "334\tJun Liu\t987\tYu Liu\n",
      "334\tJun Liu\t1724\tJun Lu\n",
      "2203\tChao Jiang\t2053\tChao Liang\n",
      "345\tNicholas J. Gaul\t2033\tNicholas Gaul\n",
      "350\tR. D. Sriram\t1914\tRam D. Sriram\n",
      "356\tKambiz H. Hajikolaei\t1241\tKambiz Haji Hajikolaei\n",
      "366\tGül E. Okudan Kremer\t814\tGül E. Okudan\n",
      "380\tRoger Jianxin Jiao\t1705\tJianxin Jiao\n",
      "384\tNan Liu\t1305\tYan Li\n",
      "385\tJun Zhou\t830\tYan Zhou\n",
      "385\tJun Zhou\t856\tJun Shu\n",
      "393\tWarren P. Seering\t917\tWarren Seering\n",
      "398\tMark A. Ganter\t1034\tMark Ganter\n",
      "402\tKate S. Whitefoot\t668\tKatie Whitefoot\n",
      "402\tKate S. Whitefoot\t1902\tKate Whitefoot\n",
      "406\tYe Li\t522\tY. Li\n",
      "406\tYe Li\t983\tKe Li\n",
      "406\tYe Li\t987\tYu Liu\n",
      "406\tYe Li\t1305\tYan Li\n",
      "406\tYe Li\t1326\tG. Li\n",
      "406\tYe Li\t1612\tWei Li\n",
      "406\tYe Li\t1725\tM. Li\n",
      "433\tXiaoming Wang\t1352\tXiaomeng Chang\n",
      "433\tXiaoming Wang\t1685\tXiao Wang\n",
      "434\tJing Li\t458\tJia Li\n",
      "434\tJing Li\t503\tYing Liu\n",
      "434\tJing Li\t776\tJihong Liu\n",
      "434\tJing Li\t815\tYang Li\n",
      "434\tJing Li\t1108\tJing Fu\n",
      "434\tJing Li\t1332\tMing Li\n",
      "434\tJing Li\t1750\tJin Qi\n",
      "448\tJeremy J. Michalek\t1391\tJeremy Michalek\n",
      "451\tJoseph A. Donndelinger\t1188\tJoseph Donndelinger\n",
      "457\tXiaoqing Frank Liu\t2181\tFrank Liou\n",
      "458\tJia Li\t1750\tJin Qi\n",
      "461\tAimin Wang\t1794\tYibin Wang\n",
      "466\tLi Du\t1819\tLiu Du\n",
      "466\tLi Du\t1054\tDi Wu\n",
      "466\tLi Du\t1354\tLei Gu\n",
      "466\tLi Du\t1592\tLi Liu\n",
      "466\tLi Du\t2200\tQi Lu\n",
      "477\tG. Hong\t2358\tZ. Dong\n",
      "477\tG. Hong\t2478\tY. Song\n",
      "480\tDavid M. Sharman\t2399\tDavid W. Shahan\n",
      "482\tDavid W. Rosen\t2279\tDavid Rosen\n",
      "493\tBrandon M. Haley\t1323\tBrandon Haley\n",
      "496\tYiming Zhang\t660\tYingli Zhang\n",
      "499\tBryony L. DuPont\t1766\tBryony DuPont\n",
      "502\tJie Chen\t2002\tLi Chen\n",
      "502\tJie Chen\t2263\tJie Sheng\n",
      "503\tYing Liu\t815\tYang Li\n",
      "503\tYing Liu\t1052\tYimin Liu\n",
      "503\tYing Liu\t1332\tMing Li\n",
      "503\tYing Liu\t1184\tAng Liu\n",
      "504\tTomohiro Taguchi\t1454\tTomohiro Mizoguchi\n",
      "512\tRichard Malak\t1678\tRichard J. Malak\n",
      "518\tXiaoqiang Zhang\t981\tXiao-Ling Zhang\n",
      "518\tXiaoqiang Zhang\t2290\tDaqing Zhang\n",
      "522\tY. Li\t983\tKe Li\n",
      "522\tY. Li\t987\tYu Liu\n",
      "522\tY. Li\t248\tG. Y. Li\n",
      "522\tY. Li\t1305\tYan Li\n",
      "522\tY. Li\t1326\tG. Li\n",
      "522\tY. Li\t1725\tM. Li\n",
      "522\tY. Li\t2385\tY. Fu\n",
      "522\tY. Li\t2320\tT. Lim\n",
      "525\tArt Boyars\t2230\tA. Boyars\n",
      "70\tMatthew Watkins\t1953\tMatthew Parkinson\n",
      "534\tDavid Yoo\t1997\tDavid Yin\n",
      "543\tSang Won Lee\t878\tSanghon Lee\n",
      "543\tSang Won Lee\t2293\tSanghoon Lee\n",
      "543\tSang Won Lee\t1846\tSangwon Lee\n",
      "543\tSang Won Lee\t1868\tSang Hoon Lee\n",
      "893\tH. Wang\t1038\tH. Yang\n",
      "893\tH. Wang\t1077\tZ. Wang\n",
      "893\tH. Wang\t1255\tBo Wang\n",
      "893\tH. Wang\t1713\tL. Wang\n",
      "893\tH. Wang\t2259\tLv Wang\n",
      "893\tH. Wang\t2305\tY. Kang\n",
      "897\tVincent Blouin\t918\tVincent Y. Blouin\n",
      "1043\tRuqin Zhang\t1753\tRunli Zhang\n",
      "572\tLei Zuo\t1354\tLei Gu\n",
      "575\tHowon Lee\t1868\tSang Hoon Lee\n",
      "582\tShishi Chen\t1581\tShikui Chen\n",
      "1205\tJun Dong\t1458\tJun Doi\n",
      "1205\tJun Dong\t273\tJun Tang\n",
      "598\tJitesh Panchal\t1557\tJitesh H. Panchal\n",
      "599\tHaifeng Ji\t2128\tHaipeng Jia\n",
      "1272\tPeter A. Fenyes\t2126\tPeter Fenyes\n",
      "607\tJames Oliver\t1055\tJames H. Oliver\n",
      "631\tKenneth M. Bryden\t802\tKenneth (Mark) Bryden\n",
      "643\tJason M. Weaver\t1622\tJason Weaver\n",
      "646\tAlan R. Parkinson\t1390\tAlan Parkinson\n",
      "1536\tDavid E. Johnson\t1487\tDavid Johnson\n",
      "650\tG. T. Parks\t836\tG. J. Park\n",
      "656\tSteven Greene\t485\tM. Steven Greene\n",
      "665\tChing-Shin Norman Shiau\t1042\tChing-Shin Shiau\n",
      "668\tKatie Whitefoot\t1902\tKate Whitefoot\n",
      "681\tCharlie C. L. Wang\t1713\tL. Wang\n",
      "692\tKen Chen\t1406\tWei Chen\n",
      "692\tKen Chen\t2277\tWen Chen\n",
      "697\tAli Farhang-Mehr\t2073\tAli Farhang Mehr\n",
      "703\tMingming Wang\t1290\tMingxian Wang\n",
      "719\tLijun Jiang\t1284\tLi-jun Wang\n",
      "1967\tL. Hua\t2030\tL. Luo\n",
      "1967\tL. Hua\t1355\tG. Hua\n",
      "1967\tL. Hua\t1859\tW. Hu\n",
      "1967\tL. Hua\t360\tL. Yuan\n",
      "7\tJ. K. Davidson\t567\tJoseph K. Davidson\n",
      "733\tPeng Song\t2302\tTeng Long\n",
      "734\tBrendan J. O’Toole\t1549\tBrendan O’Toole\n",
      "735\tWei-Ju Chen\t1406\tWei Chen\n",
      "741\tScott Ferguson\t1505\tScott M. Ferguson\n",
      "743\tJin Wen\t265\tJian Wan\n",
      "747\tLiang Zhu\t2001\tLiang Zhao\n",
      "750\tChristopher Garneau\t1489\tChristopher J. Garneau\n",
      "758\tPanos Papalambros\t1447\tP. Papalambros\n",
      "653\tRichard J. Malak, Jr.\t1678\tRichard J. Malak\n",
      "767\tG. Gary Wang\t2059\tGary Wang\n",
      "2274\tAlejandro R. Diaz\t1918\tAlejandro Diaz\n",
      "780\tBart D. Frischknecht\t2095\tBart Frischknecht\n",
      "1495\tBianca Facidieno\t1990\tBianca Falcidieno\n",
      "2452\tDmitriy Dikin\t1493\tDmitriy A. Dikin\n",
      "799\tKezheng Huang\t2351\tKe-Zheng Huang\n",
      "809\tTucker J. Marion\t839\tTucker Marion\n",
      "815\tYang Li\t1305\tYan Li\n",
      "815\tYang Li\t1332\tMing Li\n",
      "815\tYang Li\t2147\tYanjing Li\n",
      "818\tAshwin Gurnani\t941\tAshwin P. Gurnani\n",
      "826\tDan Zhang\t1680\tJun Zhang\n",
      "826\tDan Zhang\t2214\tJian Zhang\n",
      "826\tDan Zhang\t2290\tDaqing Zhang\n",
      "832\tMaria Yang\t1203\tMaria C. Yang\n",
      "838\tXu Zhang\t1369\tJ. Zhang\n",
      "838\tXu Zhang\t1680\tJun Zhang\n",
      "838\tXu Zhang\t1948\tYi Zhang\n",
      "838\tXu Zhang\t2429\tT. Zhang\n",
      "850\tCristina H. Amon\t1906\tCristina Amon\n",
      "855\tZhansi Jiang\t940\tZhen Jiang\n",
      "856\tJun Shu\t1724\tJun Lu\n",
      "856\tJun Shu\t2415\tHai-Jun Su\n",
      "860\tSalman Ahmed\t1466\tSaeema Ahmed\n",
      "878\tSanghon Lee\t2293\tSanghoon Lee\n",
      "878\tSanghon Lee\t1846\tSangwon Lee\n",
      "878\tSanghon Lee\t1868\tSang Hoon Lee\n",
      "914\tNam-Ho Kim\t1983\tNam H. Kim\n",
      "914\tNam-Ho Kim\t2042\tNam Ho Kim\n",
      "922\tMustafa H. Arafa\t1776\tMustafa Arafa\n",
      "928\tMin Xu\t1318\tMeng Xu\n",
      "929\tMeifang Li\t1332\tMing Li\n",
      "933\tJ. Gu\t1859\tW. Hu\n",
      "933\tJ. Gu\t2385\tY. Fu\n",
      "943\tYu-Xin Wang\t1827\tXin Wang\n",
      "950\tChih-Hsiang Chang\t1671\tChih-Hsing Chu\n",
      "965\tJoshua D. Summers\t1207\tJoshua Summers\n",
      "1828\tMohamed F. Aly\t1611\tMohamed Aly\n",
      "2249\tZequn Wang\t1134\tDelun Wang\n",
      "2249\tZequn Wang\t1704\tLiqun Wang\n",
      "979\tMatthew McIntire\t2356\tMatthew G. McIntire\n",
      "983\tKe Li\t1326\tG. Li\n",
      "983\tKe Li\t1612\tWei Li\n",
      "983\tKe Li\t1725\tM. Li\n",
      "983\tKe Li\t2470\tKe Fu\n",
      "987\tYu Liu\t1592\tLi Liu\n",
      "988\tJohan Persson\t1095\tJohan Andersson\n",
      "999\tOlivier de Weck\t1211\tOlivier L. de Weck\n",
      "1010\tEmmanuel G. Lim\t1326\tG. Li\n",
      "1018\tJeffrey D. Arena\t1961\tJeffrey D. Allen\n",
      "1025\tShintaro Yamasaki\t1288\tShintarou Yamasaki\n",
      "1028\tMohammad Nuhi\t1104\tMohammad Rouhi\n",
      "1032\tYan Wang\t1403\tYong Wang\n",
      "1032\tYan Wang\t1827\tXin Wang\n",
      "1032\tYan Wang\t2219\tYue Wang\n",
      "1035\tJanis Terpenny\t2174\tJanis P. Terpenny\n",
      "1038\tH. Yang\t1077\tZ. Wang\n",
      "1038\tH. Yang\t1713\tL. Wang\n",
      "1038\tH. Yang\t2305\tY. Kang\n",
      "1415\tYuanyuan Liu\t1814\tXuyuan Liu\n",
      "1054\tDi Wu\t2200\tQi Lu\n",
      "1070\tJ. J. Shah\t1237\tJami J. Shah\n",
      "1077\tZ. Wang\t1255\tBo Wang\n",
      "1077\tZ. Wang\t1713\tL. Wang\n",
      "1077\tZ. Wang\t2259\tLv Wang\n",
      "1077\tZ. Wang\t2305\tY. Kang\n",
      "1077\tZ. Wang\t2358\tZ. Dong\n",
      "1080\tDavid C. Anderson\t1643\tDavid Anderson\n",
      "1085\tJ. Hamel\t2394\tJ. M. Hamel\n",
      "1095\tJohan Andersson\t2361\tHans Andersson\n",
      "1422\tWei Liu\t1592\tLi Liu\n",
      "1422\tWei Liu\t1612\tWei Li\n",
      "1422\tWei Liu\t923\tWei Jin\n",
      "1107\tChan Yu\t1640\tChao Xu\n",
      "1107\tChan Yu\t2026\tChao Hu\n",
      "994\tJiong Tang\t1159\tJinsong Wang\n",
      "994\tJiong Tang\t1227\tJing Wang\n",
      "1114\tMi Xiao\t1950\tMu Qiao\n",
      "1120\tS. Manoochehri\t1461\tSouran Manoochehri\n",
      "1129\tJ. T. Wang\t1303\tJ. C. Yang\n",
      "1129\tJ. T. Wang\t2215\tK. W. Wang\n",
      "1132\tKenneth W. Chase\t1743\tKenneth Chase\n",
      "1132\tKenneth W. Chase\t2071\tKen W. Chase\n",
      "1137\tLihui Wang\t1704\tLiqun Wang\n",
      "1139\tKuan-Ting Chen\t2045\tJang-Ting Chen\n",
      "1144\tNagesh Kulkarni\t1156\tNagesh H. Kulkarni\n",
      "1156\tNagesh H. Kulkarni\t2039\tRakesh S. Kulkarni\n",
      "1158\tChengsheng Wang\t2162\tChensheng Wang\n",
      "1159\tJinsong Wang\t1227\tJing Wang\n",
      "1159\tJinsong Wang\t426\tJinling Wang\n",
      "1162\tChing-Jui Chang\t1874\tChing-Hung Chuang\n",
      "1170\tHesham Hegazi\t1045\tHesham A. Hegazi\n",
      "1171\tJianxin (Roger) Jiao\t1301\tJianxin Roger Jiao\n",
      "590\tLiang Gao\t2001\tLiang Zhao\n",
      "1181\tRaj Mishra\t2005\tRajul Misra\n",
      "1204\tAndrew T. Olewnik\t1823\tAndrew Olewnik\n",
      "1208\tJered Dean\t1662\tJered H. Dean\n",
      "1212\tAlice Agogino\t2136\tAlice M. Agogino\n",
      "1216\tThomas Gmeiner\t1833\tThomas Kormeier\n",
      "1216\tThomas Gmeiner\t2486\tThomas Gemmer\n",
      "1227\tJing Wang\t1293\tJiliang Wang\n",
      "1227\tJing Wang\t1403\tYong Wang\n",
      "1227\tJing Wang\t2458\tJianguo Wang\n",
      "1227\tJing Wang\t265\tJian Wan\n",
      "1227\tJing Wang\t1827\tXin Wang\n",
      "1227\tJing Wang\t426\tJinling Wang\n",
      "1228\tJohn P. Eddy\t2101\tJohn Eddy\n",
      "1232\tLin He\t2411\tJim He\n",
      "1237\tJami J. Shah\t1669\tJami Shah\n",
      "1250\tCarolyn Conner Seepersad\t1767\tCarolyn Seepersad\n",
      "1250\tCarolyn Conner Seepersad\t1941\tCarolyn C. Seepersad\n",
      "1251\tYoo Suk Hong\t2044\tYoo S. Hong\n",
      "1255\tBo Wang\t1713\tL. Wang\n",
      "1255\tBo Wang\t2259\tLv Wang\n",
      "248\tG. Y. Li\t1542\tC. G. Li\n",
      "248\tG. Y. Li\t1966\tP. G. Li\n",
      "1262\tTong Zou\t1854\tHong Zhou\n",
      "1262\tTong Zou\t2468\tTing Zou\n",
      "1284\tLi-jun Wang\t1704\tLiqun Wang\n",
      "1290\tMingxian Wang\t1153\tFengxiang Wang\n",
      "1293\tJiliang Wang\t2458\tJianguo Wang\n",
      "1293\tJiliang Wang\t426\tJinling Wang\n",
      "1296\tJ. P. Pernot\t2152\tJ.-P. Pernot\n",
      "1303\tJ. C. Yang\t1760\tR. J. Yang\n",
      "1305\tYan Li\t1780\tTao Li\n",
      "1305\tYan Li\t1644\tYan Jin\n",
      "1305\tYan Li\t1903\tYao Lin\n",
      "1326\tG. Li\t1725\tM. Li\n",
      "1326\tG. Li\t1542\tC. G. Li\n",
      "1326\tG. Li\t1966\tP. G. Li\n",
      "1326\tG. Li\t2320\tT. Lim\n",
      "635\tPaul D. Arendt\t1534\tPaul Arendt\n",
      "1340\tAyman Youssef\t1642\tAyman M. A. Youssef\n",
      "1031\tJ. S. M. Vergeest\t2347\tJoris S. M. Vergeest\n",
      "1349\tDavid A. Romero\t1768\tDavid Romero\n",
      "1354\tLei Gu\t1373\tLei Shu\n",
      "1355\tG. Hua\t1859\tW. Hu\n",
      "1358\tSayed M. Metwalli\t2312\tSayed Metwalli\n",
      "1359\tGeorges Fadel\t1494\tGeorge Fadel\n",
      "1359\tGeorges Fadel\t1676\tGeorges M. Fadel\n",
      "2304\tMatthew P. Reed\t2389\tMatthew Reed\n",
      "1369\tJ. Zhang\t1553\tJie Zhang\n",
      "1369\tJ. Zhang\t1680\tJun Zhang\n",
      "1369\tJ. Zhang\t1948\tYi Zhang\n",
      "1369\tJ. Zhang\t2360\tG. J. Zhang\n",
      "1369\tJ. Zhang\t2429\tT. Zhang\n",
      "1382\tHarrison M. Kim\t1928\tHarrison Kim\n",
      "1389\tZhengdong Ding\t1954\tZhengdong Huang\n",
      "1398\tStella Maris Oggianu\t1749\tStella Oggianu\n",
      "1406\tWei Chen\t2002\tLi Chen\n",
      "1406\tWei Chen\t2277\tWen Chen\n",
      "1410\tLinda Lianfeng Zhang\t2272\tLianfeng Zhang\n",
      "1419\tJunqiang Zhang\t2214\tJian Zhang\n",
      "1479\tSanjay B. Joshi\t357\tSanjay Joshi\n",
      "1434\tR. Roy\t1884\tU. Roy\n",
      "1444\tO. Ma\t1762\tOu Ma\n",
      "216\tMohamed Trabia\t2048\tMohamed B. Trabia\n",
      "1469\tPing Ge\t2420\tLong Ge\n",
      "1494\tGeorge Fadel\t1676\tGeorges M. Fadel\n",
      "1519\tJingru Zhang\t2214\tJian Zhang\n",
      "1520\tGeorge Cheng\t2461\tGeorge H. Cheng\n",
      "1780\tTao Li\t1903\tYao Lin\n",
      "1539\tMatthew I. Campbell\t1923\tMatthew Campbell\n",
      "1837\tMagnus Thor Jonsson\t1935\tMagnus Th. Jonsson\n",
      "1553\tJie Zhang\t1680\tJun Zhang\n",
      "1553\tJie Zhang\t1948\tYi Zhang\n",
      "1553\tJie Zhang\t2214\tJian Zhang\n",
      "1553\tJie Zhang\t2263\tJie Sheng\n",
      "1569\tLi Nie\t1592\tLi Liu\n",
      "1576\tZhengdong Ma\t1954\tZhengdong Huang\n",
      "2080\tYu Song\t2478\tY. Song\n",
      "1587\tRobert L. Williams, II\t2235\tN. Williams\n",
      "1590\tJudy Vance\t1936\tJudy M. Vance\n",
      "1592\tLi Liu\t2200\tQi Lu\n",
      "1606\tHuibin Lui\t2317\tHuibin Liu\n",
      "1612\tWei Li\t923\tWei Jin\n",
      "1617\tKurt Chipperfield\t789\tKurt A. Chipperfield\n",
      "1627\tIrem Tumer\t2060\tIrem Y. Tumer\n",
      "1629\tGregory M. Mocko\t2099\tGregory M. Roach\n",
      "1630\tJian Cao\t265\tJian Wan\n",
      "2427\tXin Yan\t1827\tXin Wang\n",
      "1640\tChao Xu\t2026\tChao Hu\n",
      "1644\tYan Jin\t1903\tYao Lin\n",
      "1659\tRitesh A. Khire\t2404\tRitesh Khire\n",
      "1663\tMatthew B. Parkinson\t1953\tMatthew Parkinson\n",
      "1680\tJun Zhang\t273\tJun Tang\n",
      "1680\tJun Zhang\t2214\tJian Zhang\n",
      "1685\tXiao Wang\t1827\tXin Wang\n",
      "940\tZhen Jiang\t2155\tZhen Huang\n",
      "1713\tL. Wang\t2142\tLei Wang\n",
      "1713\tL. Wang\t2259\tLv Wang\n",
      "1713\tL. Wang\t2305\tY. Kang\n",
      "1725\tM. Li\t2320\tT. Lim\n",
      "2293\tSanghoon Lee\t1846\tSangwon Lee\n",
      "2293\tSanghoon Lee\t1868\tSang Hoon Lee\n",
      "1747\tAnnette Skowronska\t1841\tAnnette G. Skowronska\n",
      "1760\tR. J. Yang\t2236\tR.-J. Yang\n",
      "1767\tCarolyn Seepersad\t1941\tCarolyn C. Seepersad\n",
      "1769\tGary Stump\t2160\tGary M. Stump\n",
      "1777\tYung-Chieh Hung\t2447\tTzu-Chieh Hung\n",
      "1784\tSteve B. Shooter\t1830\tSteven B. Shooter\n",
      "791\tMatthew P. Castanier\t2310\tMatthew Castanier\n",
      "1808\tDennis N. Assanis\t1917\tDennis Assanis\n",
      "1542\tC. G. Li\t1966\tP. G. Li\n",
      "1846\tSangwon Lee\t1868\tSang Hoon Lee\n",
      "1859\tW. Hu\t2385\tY. Fu\n",
      "1865\tEhsan T. Esfahani\t2449\tEhsan Tarkesh Esfahani\n",
      "1871\tErin F. MacDonald\t2338\tErin MacDonald\n",
      "1883\tTobias Larsson\t2129\tTobias C. Larsson\n",
      "1948\tYi Zhang\t2182\tYichi Zhang\n",
      "1948\tYi Zhang\t2429\tT. Zhang\n",
      "1983\tNam H. Kim\t2042\tNam Ho Kim\n",
      "2024\tFuewen Frank Liou\t2181\tFrank Liou\n",
      "2031\tJie Hu\t2411\tJim He\n",
      "2235\tN. Williams\t2132\tJoshua M. Williams\n",
      "2399\tDavid W. Shahan\t2218\tDavid Shahan\n",
      "2114\tHorea Ilies\t2473\tHorea T. Ilies\n",
      "2142\tLei Wang\t2259\tLv Wang\n",
      "2155\tZhen Huang\t2242\tZhen Hu\n",
      "2155\tZhen Huang\t2351\tKe-Zheng Huang\n",
      "2161\tYu Yoshimura\t2241\tM. Yoshimura\n",
      "2232\tW. F. Lu\t2323\tWen F. Lu\n",
      "2470\tKe Fu\t2385\tY. Fu\n",
      "2305\tY. Kang\t2478\tY. Song\n",
      "2358\tZ. Dong\t2478\tY. Song\n"
     ]
    }
   ],
   "source": [
    "from fuzzywuzzy import fuzz\n",
    "import Levenshtein\n",
    "keys = name2author.keys()\n",
    "\n",
    "for i in range(0, len(keys)):\n",
    "    for j in range(i+1, len(keys)):\n",
    "        p1 = name2author[keys[i]]\n",
    "        p2 = name2author[keys[j]]\n",
    "        \n",
    "        first = p1.name\n",
    "        second = p2.name\n",
    "        \n",
    "        pdist = fuzz.partial_ratio(first, second)\n",
    "        dist = Levenshtein.distance(first, second)\n",
    "        lv_ra = Levenshtein.ratio(first, second)\n",
    "        \n",
    "        if pdist >90 or dist <=2 or lv_ra >0.8:\n",
    "            print p1.aid+\"\\t\"+first+\"\\t\"+p2.aid+\"\\t\"+second"
   ]
  },
  {
   "cell_type": "markdown",
   "metadata": {},
   "source": [
    "### Function for merging name1 and name2"
   ]
  },
  {
   "cell_type": "code",
   "execution_count": 12,
   "metadata": {
    "collapsed": true
   },
   "outputs": [],
   "source": [
    "def merge(id1, id2, authors, papers):\n",
    "    author1 = authors[id1]\n",
    "    author2 = authors[id2]\n",
    "    \n",
    "    # 1. On Author level\n",
    "    \n",
    "    # let 1 has 2's all paper_ids\n",
    "    for pid in author2.paper_ids:\n",
    "        author1.add_paper(pid)\n",
    "    \n",
    "    # make 2's name as 1's nickname\n",
    "    author1.add_nickname(author2.name)\n",
    "    \n",
    "    # 2. On Papers level\n",
    "    # Make author2's papers that contain author2.id now contain author1.id\n",
    "    for pid in author2.paper_ids:\n",
    "        paper = papers[pid]\n",
    "        paper.author_ids = [id1 if x == id2 else x for x in paper.author_ids]\n",
    "    \n",
    "    # remove id2\n",
    "    authors.pop(id2)\n",
    "    \n",
    "    print author1.name, \" AND \", author2.name, \"ARE MERGED!\""
   ]
  },
  {
   "cell_type": "markdown",
   "metadata": {},
   "source": [
    "### Read from disambiguation file\n",
    "\n",
    "Think of these name pairs as edges in graph, we need to find connected components of that graph and each component is referring to a person's name set."
   ]
  },
  {
   "cell_type": "code",
   "execution_count": 13,
   "metadata": {
    "collapsed": false
   },
   "outputs": [],
   "source": [
    "import networkx as nx\n",
    "G=nx.Graph()\n",
    "disamb_file_path = \"data/disambiguation.txt\"\n",
    "\n",
    "dependency = []\n",
    "with open(disamb_file_path, \"rb\") as f:\n",
    "    for line in f:\n",
    "        segs = line.strip().split(\"\\t\")\n",
    "        id1 = segs[0]\n",
    "        id2 = segs[2]\n",
    "        G.add_edge(int(id1), int(id2))\n",
    "\n",
    "names = [sorted(list(c)) for c in sorted(nx.connected_components(G), key=len, reverse=True)]"
   ]
  },
  {
   "cell_type": "markdown",
   "metadata": {},
   "source": [
    "### Perform merging"
   ]
  },
  {
   "cell_type": "code",
   "execution_count": 14,
   "metadata": {
    "collapsed": false
   },
   "outputs": [
    {
     "name": "stdout",
     "output_type": "stream",
     "text": [
      "Niclas Strömberg  AND  Padmavathi K. Pakala ARE MERGED!\n",
      "Niclas Stromberg  AND  Niclas Strömberg ARE MERGED!\n",
      "Q. Cheng  AND  Heidi Q. Chen ARE MERGED!\n",
      "James Allison  AND  James T. Allison ARE MERGED!\n",
      "David J. Gorsich  AND  David Gorsich ARE MERGED!\n",
      "J. K. Davidson  AND  Joseph K. Davidson ARE MERGED!\n",
      "Steve C. Wang  AND  C. Wang ARE MERGED!\n"
     ]
    }
   ],
   "source": [
    "for name_list in names:\n",
    "    for i in range(0, len(name_list)-1):\n",
    "        idx = len(name_list) - 1 - i\n",
    "        merge(str(name_list[idx-1]), str(name_list[idx]), authors, papers)"
   ]
  },
  {
   "cell_type": "markdown",
   "metadata": {},
   "source": [
    "## 5. Network Construction"
   ]
  },
  {
   "cell_type": "markdown",
   "metadata": {},
   "source": [
    "### 5.1 Preparation"
   ]
  },
  {
   "cell_type": "code",
   "execution_count": 23,
   "metadata": {
    "collapsed": false
   },
   "outputs": [],
   "source": [
    "class Interpreter():\n",
    "    def __init__(self):\n",
    "        self.digit_holder = {}\n",
    "        self.string_holder = {}\n",
    "        \n",
    "    def add(self, key, value):\n",
    "        self.digit_holder[key] = value\n",
    "        self.string_holder[value] = key\n",
    "    \n",
    "    def lookup(self, key):\n",
    "        if type(key) is int:\n",
    "            return self.digit_holder[key]\n",
    "        else:\n",
    "            return self.string_holder[key]"
   ]
  },
  {
   "cell_type": "code",
   "execution_count": 24,
   "metadata": {
    "collapsed": true
   },
   "outputs": [],
   "source": [
    "fake_aid = Interpreter()\n",
    "fake_pid = Interpreter()\n",
    "\n",
    "for i in range(0, len(authors.keys())):\n",
    "    aid = authors.keys()[i]\n",
    "    fake_aid.add(i, aid)\n",
    "    \n",
    "for i in range(0, len(papers.keys())):\n",
    "    pid = papers.keys()[i]\n",
    "    fake_pid.add(i, pid)"
   ]
  },
  {
   "cell_type": "code",
   "execution_count": null,
   "metadata": {
    "collapsed": true
   },
   "outputs": [],
   "source": [
    "\n",
    "\n",
    "\n",
    "def author_network(authors, papers, start_year, end_year):\n",
    "    for p1 in authors.keys():\n",
    "        for p2 in authors.keys():\n",
    "            if a1 == a2:\n",
    "                continue\n",
    "            else:\n",
    "                "
   ]
  },
  {
   "cell_type": "markdown",
   "metadata": {},
   "source": [
    "## 6. Paper Network Construction"
   ]
  },
  {
   "cell_type": "markdown",
   "metadata": {},
   "source": []
  },
  {
   "cell_type": "code",
   "execution_count": null,
   "metadata": {
    "collapsed": false
   },
   "outputs": [],
   "source": []
  },
  {
   "cell_type": "code",
   "execution_count": null,
   "metadata": {
    "collapsed": true
   },
   "outputs": [],
   "source": []
  },
  {
   "cell_type": "code",
   "execution_count": null,
   "metadata": {
    "collapsed": true
   },
   "outputs": [],
   "source": []
  }
 ],
 "metadata": {
  "kernelspec": {
   "display_name": "Python 2",
   "language": "python",
   "name": "python2"
  },
  "language_info": {
   "codemirror_mode": {
    "name": "ipython",
    "version": 2
   },
   "file_extension": ".py",
   "mimetype": "text/x-python",
   "name": "python",
   "nbconvert_exporter": "python",
   "pygments_lexer": "ipython2",
   "version": "2.7.11"
  }
 },
 "nbformat": 4,
 "nbformat_minor": 0
}
