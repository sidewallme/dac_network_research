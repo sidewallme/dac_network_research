{
 "cells": [
  {
   "cell_type": "markdown",
   "metadata": {},
   "source": [
    "# DAC Network Construction"
   ]
  },
  {
   "cell_type": "code",
   "execution_count": 1,
   "metadata": {
    "collapsed": true
   },
   "outputs": [],
   "source": [
    "import json"
   ]
  },
  {
   "cell_type": "markdown",
   "metadata": {},
   "source": [
    "## Author Object"
   ]
  },
  {
   "cell_type": "code",
   "execution_count": 2,
   "metadata": {
    "collapsed": false
   },
   "outputs": [],
   "source": [
    "class Author():\n",
    "    def __init__(self, name, aid):\n",
    "        self.name = name\n",
    "        self.aid = aid\n",
    "        self.nicknames = []\n",
    "        self.paper_ids = []\n",
    "    \n",
    "    def add_paper(self, pid):\n",
    "        if pid not in self.paper_ids:\n",
    "            self.paper_ids.append(pid)\n",
    "            \n",
    "    def add_nickname(self, name):\n",
    "        if name not in self.nicknames:\n",
    "            self.nicknames.append(name)\n",
    "        "
   ]
  },
  {
   "cell_type": "markdown",
   "metadata": {},
   "source": [
    "## Paper Object"
   ]
  },
  {
   "cell_type": "code",
   "execution_count": 3,
   "metadata": {
    "collapsed": true
   },
   "outputs": [],
   "source": [
    "class Paper():\n",
    "    def __init__(self, title, abstract, year, author_names, b_topic, topics, pid, detc, url):\n",
    "        \n",
    "        # Basic info\n",
    "        self.title = title\n",
    "        self.abstract = abstract\n",
    "        self.year = year\n",
    "        self.author_names = author_names\n",
    "        self.broad_topic = b_topic\n",
    "        self.topics = topics\n",
    "        self.pid = pid\n",
    "        self.detc = detc\n",
    "        self.url = url\n",
    "        \n",
    "        # add later\n",
    "        self.author_ids = []\n",
    "        self.citations = []\n",
    "        self.cited_by = []\n",
    "    \n",
    "    def add_author_id(self, aid):\n",
    "        if aid not in self.author_ids:\n",
    "            self.author_ids.append(aid)\n",
    "        "
   ]
  },
  {
   "cell_type": "markdown",
   "metadata": {
    "collapsed": true
   },
   "source": [
    "## Procedure 1. Read papers "
   ]
  },
  {
   "cell_type": "code",
   "execution_count": 4,
   "metadata": {
    "collapsed": false
   },
   "outputs": [],
   "source": [
    "file_path = \"data/DAC_Entire_DataBase.json\"\n",
    "\n",
    "with open(file_path, \"r\") as f:\n",
    "    database = json.load(f)"
   ]
  },
  {
   "cell_type": "code",
   "execution_count": 5,
   "metadata": {
    "collapsed": false
   },
   "outputs": [],
   "source": [
    "papers = {}\n",
    "for p in database:\n",
    "    paper = Paper(p['Title'], p['Abstract'],p['Year'],p['Authors'], p['Broad_Topic'],\\\n",
    "                  p['Topics'], p['PaperID'],p['DETC'], p['URL'])\n",
    "    papers[paper.pid] = paper"
   ]
  },
  {
   "cell_type": "markdown",
   "metadata": {},
   "source": [
    "## Procedure 2. Read authors"
   ]
  },
  {
   "cell_type": "code",
   "execution_count": 6,
   "metadata": {
    "collapsed": false
   },
   "outputs": [],
   "source": [
    "## add author into the dataset\n",
    "author_names = {}\n",
    "\n",
    "for p in papers.values():\n",
    "    for n in p.author_names:\n",
    "        author_names[n] = 1"
   ]
  },
  {
   "cell_type": "code",
   "execution_count": 7,
   "metadata": {
    "collapsed": false
   },
   "outputs": [],
   "source": [
    "# Assign IDs to each author\n",
    "\n",
    "id = 0\n",
    "for n in author_names.keys():\n",
    "    author_names[n] = str(id)\n",
    "    id += 1"
   ]
  },
  {
   "cell_type": "code",
   "execution_count": 8,
   "metadata": {
    "collapsed": true
   },
   "outputs": [],
   "source": [
    "authors = {}\n",
    "\n",
    "for name in author_names.keys():\n",
    "    authors[author_names[name]] = Author(name, author_names[name])"
   ]
  },
  {
   "cell_type": "code",
   "execution_count": 9,
   "metadata": {
    "collapsed": false
   },
   "outputs": [],
   "source": [
    "def make_name_to_author_dict(authors):\n",
    "    ret = {}\n",
    "    for author in authors.values():\n",
    "        ret[author.name] = author\n",
    "    return ret"
   ]
  },
  {
   "cell_type": "markdown",
   "metadata": {},
   "source": [
    "## 3. Build Connection (between author and paper)"
   ]
  },
  {
   "cell_type": "code",
   "execution_count": 10,
   "metadata": {
    "collapsed": true
   },
   "outputs": [],
   "source": [
    "name2author = make_name_to_author_dict(authors)"
   ]
  },
  {
   "cell_type": "code",
   "execution_count": 27,
   "metadata": {
    "collapsed": false
   },
   "outputs": [
    {
     "data": {
      "text/plain": [
       "2515"
      ]
     },
     "execution_count": 27,
     "metadata": {},
     "output_type": "execute_result"
    }
   ],
   "source": [
    "len(name2author)"
   ]
  },
  {
   "cell_type": "markdown",
   "metadata": {},
   "source": [
    "### Let each author has paper_id list"
   ]
  },
  {
   "cell_type": "code",
   "execution_count": 11,
   "metadata": {
    "collapsed": false
   },
   "outputs": [],
   "source": [
    "for paper in papers.values():\n",
    "    for name in paper.author_names:\n",
    "        author = name2author[name]\n",
    "        \n",
    "        author.add_paper(paper.pid)"
   ]
  },
  {
   "cell_type": "markdown",
   "metadata": {},
   "source": [
    "### Let each paper has author_id list"
   ]
  },
  {
   "cell_type": "code",
   "execution_count": 12,
   "metadata": {
    "collapsed": false
   },
   "outputs": [],
   "source": [
    "for paper in papers.values():\n",
    "    for name in paper.author_names:\n",
    "        paper.add_author_id(name2author[name].aid)"
   ]
  },
  {
   "cell_type": "markdown",
   "metadata": {},
   "source": [
    "## 4. Name Disambiguation"
   ]
  },
  {
   "cell_type": "markdown",
   "metadata": {},
   "source": [
    "### Detect similar name pairs\n",
    "\n",
    "Running the following cell will generate lines of similar names. Each line is formatted as \"author_id, name, author_id, name\". For each line, it the two are indeed similar, them copy and paste the line into data/disambiguation.txt file."
   ]
  },
  {
   "cell_type": "code",
   "execution_count": null,
   "metadata": {
    "collapsed": false,
    "scrolled": true
   },
   "outputs": [],
   "source": [
    "from fuzzywuzzy import fuzz\n",
    "import Levenshtein\n",
    "keys = name2author.keys()\n",
    "\n",
    "for i in range(0, len(keys)):\n",
    "    for j in range(i+1, len(keys)):\n",
    "        p1 = name2author[keys[i]]\n",
    "        p2 = name2author[keys[j]]\n",
    "        \n",
    "        first = p1.name\n",
    "        second = p2.name\n",
    "        \n",
    "        pdist = fuzz.partial_ratio(first, second)\n",
    "        dist = Levenshtein.distance(first, second)\n",
    "        lv_ra = Levenshtein.ratio(first, second)\n",
    "        \n",
    "        if pdist >90 or dist <=2 or lv_ra >0.8:\n",
    "            print p1.aid+\"\\t\"+first+\"\\t\"+p2.aid+\"\\t\"+second"
   ]
  },
  {
   "cell_type": "markdown",
   "metadata": {},
   "source": [
    "### Function for merging name1 and name2"
   ]
  },
  {
   "cell_type": "code",
   "execution_count": 13,
   "metadata": {
    "collapsed": true
   },
   "outputs": [],
   "source": [
    "def merge(id1, id2, authors, papers):\n",
    "    author1 = authors[id1]\n",
    "    author2 = authors[id2]\n",
    "    \n",
    "    # 1. On Author level\n",
    "    \n",
    "    # let 1 has 2's all paper_ids\n",
    "    for pid in author2.paper_ids:\n",
    "        author1.add_paper(pid)\n",
    "    \n",
    "    # make 2's name as 1's nickname\n",
    "    author1.add_nickname(author2.name)\n",
    "    \n",
    "    # 2. On Papers level\n",
    "    # Make author2's papers that contain author2.id now contain author1.id\n",
    "    for pid in author2.paper_ids:\n",
    "        paper = papers[pid]\n",
    "        paper.author_ids = [id1 if x == id2 else x for x in paper.author_ids]\n",
    "    \n",
    "    # remove id2\n",
    "    authors.pop(id2)\n",
    "    \n",
    "    print author1.name, \" AND \", author2.name, \"ARE MERGED!\""
   ]
  },
  {
   "cell_type": "markdown",
   "metadata": {},
   "source": [
    "### Read from disambiguation file\n",
    "\n",
    "Think of these name pairs as edges in graph, we need to find connected components of that graph and each component is referring to a person's name set."
   ]
  },
  {
   "cell_type": "code",
   "execution_count": 14,
   "metadata": {
    "collapsed": false
   },
   "outputs": [],
   "source": [
    "import networkx as nx\n",
    "G=nx.Graph()\n",
    "disamb_file_path = \"data/disambiguation.txt\"\n",
    "\n",
    "dependency = []\n",
    "with open(disamb_file_path, \"rb\") as f:\n",
    "    for line in f:\n",
    "        segs = line.strip().split(\"\\t\")\n",
    "        id1 = segs[0]\n",
    "        id2 = segs[2]\n",
    "        G.add_edge(int(id1), int(id2))\n",
    "\n",
    "names = [sorted(list(c)) for c in sorted(nx.connected_components(G), key=len, reverse=True)]"
   ]
  },
  {
   "cell_type": "markdown",
   "metadata": {},
   "source": [
    "### Perform merging"
   ]
  },
  {
   "cell_type": "code",
   "execution_count": 15,
   "metadata": {
    "collapsed": false
   },
   "outputs": [
    {
     "name": "stdout",
     "output_type": "stream",
     "text": [
      "Richard J. Malak, Jr.  AND  Richard J. Malak ARE MERGED!\n",
      "Richard Malak  AND  Richard J. Malak, Jr. ARE MERGED!\n",
      "Kenneth Chase  AND  Ken W. Chase ARE MERGED!\n",
      "Kenneth W. Chase  AND  Kenneth Chase ARE MERGED!\n",
      "Ali Farhang-Mehr  AND  Ali Farhang Mehr ARE MERGED!\n",
      "A. Farhang-Mehr  AND  Ali Farhang-Mehr ARE MERGED!\n",
      "Jami J. Shah  AND  Jami Shah ARE MERGED!\n",
      "J. J. Shah  AND  Jami J. Shah ARE MERGED!\n",
      "Fuewen Frank Liou  AND  Frank Liou ARE MERGED!\n",
      "Frank W. Liou  AND  Fuewen Frank Liou ARE MERGED!\n",
      "George Fadel  AND  Georges M. Fadel ARE MERGED!\n",
      "Georges Fadel  AND  George Fadel ARE MERGED!\n",
      "Bryony L. DuPont  AND  Bryony DuPont ARE MERGED!\n",
      "Bryony L. Du Pont  AND  Bryony L. DuPont ARE MERGED!\n",
      "Carolyn Seepersad  AND  Carolyn C. Seepersad ARE MERGED!\n",
      "Carolyn Conner Seepersad  AND  Carolyn Seepersad ARE MERGED!\n",
      "Panos Papalambros  AND  P. Papalambros ARE MERGED!\n",
      "Panos Y. Papalambros  AND  Panos Papalambros ARE MERGED!\n",
      "Nam H. Kim  AND  Nam Ho Kim ARE MERGED!\n",
      "Nam-Ho Kim  AND  Nam H. Kim ARE MERGED!\n",
      "Katie Whitefoot  AND  Kate Whitefoot ARE MERGED!\n",
      "Kate S. Whitefoot  AND  Katie Whitefoot ARE MERGED!\n",
      "David Johnson  AND  David E. Johnson ARE MERGED!\n",
      "James Allison  AND  James T. Allison ARE MERGED!\n",
      "David J. Gorsich  AND  David Gorsich ARE MERGED!\n",
      "J. K. Davidson  AND  Joseph K. Davidson ARE MERGED!\n",
      "T. R. Langerak  AND  Thomas R. Langerak ARE MERGED!\n",
      "Steve C. Wang  AND  C. Wang ARE MERGED!\n",
      "Niclas Stromberg  AND  Niclas Strömberg ARE MERGED!\n",
      "Irem Tumer  AND  Irem Y. Tumer ARE MERGED!\n",
      "Art Boyars  AND  A. Boyars ARE MERGED!\n",
      "Jianxin (Roger) Jiao  AND  Jianxin Roger Jiao ARE MERGED!\n",
      "Ching-Shin Norman Shiau  AND  Ching-Shin Shiau ARE MERGED!\n",
      "Matthew I. Campbell  AND  Matthew Campbell ARE MERGED!\n",
      "Jitesh Panchal  AND  Jitesh H. Panchal ARE MERGED!\n",
      "J. Hamel  AND  J. M. Hamel ARE MERGED!\n",
      "J.-C. Léon  AND  J. C. Léon ARE MERGED!\n",
      "Yu Song  AND  Y. Song ARE MERGED!\n",
      "Raj Mishra  AND  Rajul Misra ARE MERGED!\n",
      "Thomas Stone  AND  Thomas M. Stone ARE MERGED!\n",
      "Ashraf Nassef  AND  Ashraf O. Nassef ARE MERGED!\n",
      "J. S. M. Vergeest  AND  Joris S. M. Vergeest ARE MERGED!\n",
      "Bart D. Frischknecht  AND  Bart Frischknecht ARE MERGED!\n",
      "I. Horváth  AND  Imre Horváth ARE MERGED!\n",
      "Sayed M. Metwalli  AND  Sayed Metwalli ARE MERGED!\n",
      "John Ziegert  AND  John C. Ziegert ARE MERGED!\n",
      "Judy Vance  AND  Judy M. Vance ARE MERGED!\n",
      "David C. Anderson  AND  David Anderson ARE MERGED!\n",
      "Andrew T. Olewnik  AND  Andrew Olewnik ARE MERGED!\n",
      "David Shahan  AND  David W. Shahan ARE MERGED!\n",
      "Mark A. Ganter  AND  Mark Ganter ARE MERGED!\n",
      "Horea Ilies  AND  Horea T. Ilies ARE MERGED!\n",
      "G. Gary Wang  AND  Gary Wang ARE MERGED!\n",
      "Shintaro Yamasaki  AND  Shintarou Yamasaki ARE MERGED!\n",
      "Mohamed Trabia  AND  Mohamed B. Trabia ARE MERGED!\n",
      "V. Krishnamurthy  AND  Vivek Krishnamurthy ARE MERGED!\n",
      "Mohamed Aly  AND  Mohamed F. Aly ARE MERGED!\n",
      "Jason M. Weaver  AND  Jason Weaver ARE MERGED!\n",
      "James L. Mathieson  AND  James J. Mason ARE MERGED!\n",
      "Peter A. Fenyes  AND  Peter Fenyes ARE MERGED!\n",
      "Brendan J. O’Toole  AND  Brendan O’Toole ARE MERGED!\n",
      "Kurt A. Chipperfield  AND  Kurt Chipperfield ARE MERGED!\n",
      "Matthew McIntire  AND  Matthew G. McIntire ARE MERGED!\n",
      "Alice Agogino  AND  Alice M. Agogino ARE MERGED!\n",
      "Ritesh A. Khire  AND  Ritesh Khire ARE MERGED!\n",
      "Sinobu Yoshimura  AND  Shinobu Yoshimura ARE MERGED!\n",
      "James Oliver  AND  James H. Oliver ARE MERGED!\n",
      "S. Manoochehri  AND  Souran Manoochehri ARE MERGED!\n",
      "Dennis N. Assanis  AND  Dennis Assanis ARE MERGED!\n",
      "Mohamed M. Shalaby  AND  Mohammed Shalaby ARE MERGED!\n",
      "J. P. Pernot  AND  J.-P. Pernot ARE MERGED!\n",
      "R. J. Yang  AND  R.-J. Yang ARE MERGED!\n",
      "Ayman Youssef  AND  Ayman M. A. Youssef ARE MERGED!\n",
      "Olivier de Weck  AND  Olivier L. de Weck ARE MERGED!\n",
      "Eliot H. Winer  AND  Eliot Winer ARE MERGED!\n",
      "Gary Stump  AND  Gary M. Stump ARE MERGED!\n",
      "Kenneth M. Bryden  AND  Kenneth (Mark) Bryden ARE MERGED!\n",
      "Nagesh Kulkarni  AND  Nagesh H. Kulkarni ARE MERGED!\n",
      "Paul D. Arendt  AND  Paul Arendt ARE MERGED!\n",
      "Janis Terpenny  AND  Janis P. Terpenny ARE MERGED!\n",
      "Kemper E. Lewis  AND  Kemper Lewis ARE MERGED!\n",
      "Alan R. Parkinson  AND  Alan Parkinson ARE MERGED!\n",
      "Richard H. Crawford  AND  Richard Crawford ARE MERGED!\n",
      "M. Steven Greene  AND  Steven Greene ARE MERGED!\n",
      "Samuel Drake  AND  Sam Drake ARE MERGED!\n",
      "Gül E. Okudan Kremer  AND  Gül E. Okudan ARE MERGED!\n",
      "C. G. Jensen  AND  C. Greg Jensen ARE MERGED!\n",
      "Joseph A. Donndelinger  AND  Joseph Donndelinger ARE MERGED!\n",
      "Sundar Krishnamurthy  AND  Sundar Krishnamurty ARE MERGED!\n",
      "Roger Jianxin Jiao  AND  Jianxin Jiao ARE MERGED!\n",
      "Zhi-Gang Xu  AND  Zhi Gang Xu ARE MERGED!\n",
      "Maria Yang  AND  Maria C. Yang ARE MERGED!\n",
      "Ian Tseng  AND  Ian H. Tseng ARE MERGED!\n",
      "Joshua D. Summers  AND  Joshua Summers ARE MERGED!\n",
      "Jered Dean  AND  Jered H. Dean ARE MERGED!\n",
      "Mark F. Horstemeyer  AND  M. F. Horstemeyer ARE MERGED!\n",
      "Kristin L. Wood  AND  Kristin Wood ARE MERGED!\n",
      "Mohamed El-Morsi  AND  Mohamed El Morsi ARE MERGED!\n",
      "Erin F. MacDonald  AND  Erin MacDonald ARE MERGED!\n",
      "Steve B. Shooter  AND  Steven B. Shooter ARE MERGED!\n",
      "Annette Skowronska  AND  Annette G. Skowronska ARE MERGED!\n",
      "Sara E. Lego  AND  Sara Lego ARE MERGED!\n",
      "Kambiz H. Hajikolaei  AND  Kambiz Haji Hajikolaei ARE MERGED!\n",
      "Linda Lianfeng Zhang  AND  Lianfeng Zhang ARE MERGED!\n",
      "Tobias Larsson  AND  Tobias C. Larsson ARE MERGED!\n",
      "Alejandro Diaz  AND  Alejandro R. Diaz ARE MERGED!\n",
      "Yoo Suk Hong  AND  Yoo S. Hong ARE MERGED!\n",
      "Scott Ferguson  AND  Scott M. Ferguson ARE MERGED!\n",
      "David W. Rosen  AND  David Rosen ARE MERGED!\n",
      "David A. Romero  AND  David Romero ARE MERGED!\n",
      "Christopher Garneau  AND  Christopher J. Garneau ARE MERGED!\n",
      "Mustafa H. Arafa  AND  Mustafa Arafa ARE MERGED!\n",
      "Adel Younis  AND  Adel A. Younis ARE MERGED!\n",
      "Matthew P. Reed  AND  Matthew Reed ARE MERGED!\n",
      "Matthew P. Castanier  AND  Matthew Castanier ARE MERGED!\n",
      "Hesham A. Hegazi  AND  Hesham Hegazi ARE MERGED!\n",
      "Sang Hoon Lee  AND  Sanghoon Lee ARE MERGED!\n",
      "W. F. Lu  AND  Wen F. Lu ARE MERGED!\n",
      "Matthew B. Parkinson  AND  Matthew Parkinson ARE MERGED!\n",
      "Kezheng Huang  AND  Ke-Zheng Huang ARE MERGED!\n",
      "Tucker J. Marion  AND  Tucker Marion ARE MERGED!\n",
      "Brandon M. Haley  AND  Brandon Haley ARE MERGED!\n",
      "Magnus Thor Jonsson  AND  Magnus Th. Jonsson ARE MERGED!\n",
      "Ashwin Gurnani  AND  Ashwin P. Gurnani ARE MERGED!\n",
      "Sang Won Lee  AND  Sangwon Lee ARE MERGED!\n",
      "Ye Li  AND  Y. Li ARE MERGED!\n",
      "Ehsan T. Esfahani  AND  Ehsan Tarkesh Esfahani ARE MERGED!\n",
      "Cristina H. Amon  AND  Cristina Amon ARE MERGED!\n",
      "Nicholas J. Gaul  AND  Nicholas Gaul ARE MERGED!\n",
      "R. D. Sriram  AND  Ram D. Sriram ARE MERGED!\n",
      "Sanjay Joshi  AND  Sanjay B. Joshi ARE MERGED!\n",
      "Harrison M. Kim  AND  Harrison Kim ARE MERGED!\n",
      "Jeremy J. Michalek  AND  Jeremy Michalek ARE MERGED!\n",
      "Stella Maris Oggianu  AND  Stella Oggianu ARE MERGED!\n",
      "Vincent Blouin  AND  Vincent Y. Blouin ARE MERGED!\n",
      "Warren P. Seering  AND  Warren Seering ARE MERGED!\n",
      "Dmitriy A. Dikin  AND  Dmitriy Dikin ARE MERGED!\n",
      "George Cheng  AND  George H. Cheng ARE MERGED!\n",
      "O. Ma  AND  Ou Ma ARE MERGED!\n",
      "Tomohiro Taguchi  AND  Tomohiro Mizoguchi ARE MERGED!\n",
      "Bianca Facidieno  AND  Bianca Falcidieno ARE MERGED!\n"
     ]
    }
   ],
   "source": [
    "for name_list in names:\n",
    "    for i in range(0, len(name_list)-1):\n",
    "        idx = len(name_list) - 1 - i\n",
    "        merge(str(name_list[idx-1]), str(name_list[idx]), authors, papers)"
   ]
  },
  {
   "cell_type": "markdown",
   "metadata": {},
   "source": [
    "## 5. Network Construction"
   ]
  },
  {
   "cell_type": "code",
   "execution_count": 16,
   "metadata": {
    "collapsed": true
   },
   "outputs": [],
   "source": [
    "import networkx as nx"
   ]
  },
  {
   "cell_type": "code",
   "execution_count": 28,
   "metadata": {
    "collapsed": true
   },
   "outputs": [],
   "source": [
    "def make_pairs(input_list):\n",
    "    length = len(input_list)\n",
    "    ret = []\n",
    "    if length == 1:\n",
    "        return [(input_list[0], input_list[0])]\n",
    "    for i in range(0, length-1):\n",
    "        for j in range(i+1, length):\n",
    "            ret.append((input_list[i], input_list[j]))\n",
    "    return ret"
   ]
  },
  {
   "cell_type": "code",
   "execution_count": 29,
   "metadata": {
    "collapsed": true
   },
   "outputs": [],
   "source": [
    "def papers_by_year(papers, inf, sup):\n",
    "    ret = []\n",
    "    for p in papers.values():\n",
    "        if p.year <= sup and p.year >= inf:\n",
    "            ret.append(p)\n",
    "    return ret"
   ]
  },
  {
   "cell_type": "code",
   "execution_count": 30,
   "metadata": {
    "collapsed": true
   },
   "outputs": [],
   "source": [
    "def make_edges(papers_selected):\n",
    "    edge_list = []\n",
    "    for p in papers_selected:\n",
    "        edge_list.extend(make_pairs(p.author_ids))\n",
    "    return edge_list"
   ]
  },
  {
   "cell_type": "code",
   "execution_count": 31,
   "metadata": {
    "collapsed": false
   },
   "outputs": [],
   "source": [
    "def author_network(papers, inf_year, sup_year):\n",
    "    papers_between = papers_by_year(papers, inf_year, sup_year)\n",
    "    edge_list = make_edges(papers_between)\n",
    "    \n",
    "    G=nx.Graph()\n",
    "    for edge in edge_list:\n",
    "        G.add_edge(edge[0], edge[1])\n",
    "    return G"
   ]
  },
  {
   "cell_type": "code",
   "execution_count": 32,
   "metadata": {
    "collapsed": false
   },
   "outputs": [],
   "source": [
    "g = author_network(papers, 2000, 2015)"
   ]
  },
  {
   "cell_type": "code",
   "execution_count": 33,
   "metadata": {
    "collapsed": false
   },
   "outputs": [
    {
     "data": {
      "text/plain": [
       "2374"
      ]
     },
     "execution_count": 33,
     "metadata": {},
     "output_type": "execute_result"
    }
   ],
   "source": [
    "len(g)"
   ]
  },
  {
   "cell_type": "code",
   "execution_count": 35,
   "metadata": {
    "collapsed": false
   },
   "outputs": [
    {
     "data": {
      "text/plain": [
       "{'643': 7,\n",
       " '592': 3,\n",
       " '344': 2,\n",
       " '345': 6,\n",
       " '346': 2,\n",
       " '347': 2,\n",
       " '340': 3,\n",
       " '341': 5,\n",
       " '342': 5,\n",
       " '343': 12,\n",
       " '348': 3,\n",
       " '349': 3,\n",
       " '2318': 9,\n",
       " '2319': 1,\n",
       " '2316': 2,\n",
       " '2317': 7,\n",
       " '2314': 7,\n",
       " '2315': 2,\n",
       " '2313': 2,\n",
       " '2311': 7,\n",
       " '298': 4,\n",
       " '299': 4,\n",
       " '296': 4,\n",
       " '297': 1,\n",
       " '294': 2,\n",
       " '295': 2,\n",
       " '292': 2,\n",
       " '293': 2,\n",
       " '290': 3,\n",
       " '291': 2,\n",
       " '270': 1,\n",
       " '271': 4,\n",
       " '272': 3,\n",
       " '273': 2,\n",
       " '274': 1,\n",
       " '275': 7,\n",
       " '276': 3,\n",
       " '277': 2,\n",
       " '278': 2,\n",
       " '279': 2,\n",
       " '738': 4,\n",
       " '581': 3,\n",
       " '2268': 2,\n",
       " '2269': 7,\n",
       " '2262': 3,\n",
       " '2263': 3,\n",
       " '2260': 3,\n",
       " '2261': 2,\n",
       " '2266': 2,\n",
       " '2267': 2,\n",
       " '2264': 2,\n",
       " '2265': 3,\n",
       " '2442': 3,\n",
       " '2443': 9,\n",
       " '2440': 4,\n",
       " '2441': 1,\n",
       " '2446': 5,\n",
       " '2447': 1,\n",
       " '2445': 1,\n",
       " '2448': 1,\n",
       " '108': 1,\n",
       " '109': 2,\n",
       " '102': 6,\n",
       " '103': 4,\n",
       " '100': 13,\n",
       " '101': 2,\n",
       " '106': 1,\n",
       " '107': 2,\n",
       " '104': 1,\n",
       " '105': 4,\n",
       " '2046': 2,\n",
       " '2047': 1,\n",
       " '2045': 1,\n",
       " '2043': 1,\n",
       " '2040': 8,\n",
       " '2041': 4,\n",
       " '1297': 1,\n",
       " '2049': 3,\n",
       " '1210': 6,\n",
       " '99': 1,\n",
       " '98': 1,\n",
       " '91': 2,\n",
       " '90': 3,\n",
       " '93': 2,\n",
       " '92': 2,\n",
       " '95': 3,\n",
       " '94': 5,\n",
       " '97': 2,\n",
       " '96': 4,\n",
       " '1991': 2,\n",
       " '1621': 2,\n",
       " '1620': 5,\n",
       " '1627': 17,\n",
       " '1626': 7,\n",
       " '1997': 7,\n",
       " '1624': 7,\n",
       " '1999': 2,\n",
       " '1998': 2,\n",
       " '1629': 4,\n",
       " '1628': 11,\n",
       " '559': 3,\n",
       " '558': 4,\n",
       " '555': 3,\n",
       " '554': 4,\n",
       " '557': 2,\n",
       " '556': 6,\n",
       " '551': 15,\n",
       " '550': 11,\n",
       " '553': 3,\n",
       " '552': 2,\n",
       " '1439': 3,\n",
       " '1199': 1,\n",
       " '1198': 14,\n",
       " '1191': 2,\n",
       " '1190': 5,\n",
       " '1193': 3,\n",
       " '1192': 3,\n",
       " '1195': 4,\n",
       " '1194': 2,\n",
       " '1197': 2,\n",
       " '1196': 2,\n",
       " '1758': 1,\n",
       " '1757': 5,\n",
       " '1756': 2,\n",
       " '1755': 6,\n",
       " '1754': 1,\n",
       " '1753': 3,\n",
       " '1752': 5,\n",
       " '1751': 3,\n",
       " '1750': 3,\n",
       " '1177': 3,\n",
       " '1176': 6,\n",
       " '1175': 3,\n",
       " '1174': 1,\n",
       " '1173': 2,\n",
       " '1172': 4,\n",
       " '1171': 3,\n",
       " '1179': 4,\n",
       " '1178': 2,\n",
       " '511': 3,\n",
       " '510': 1,\n",
       " '1005': 4,\n",
       " '644': 1,\n",
       " '1285': 3,\n",
       " '1284': 1,\n",
       " '1287': 3,\n",
       " '1286': 7,\n",
       " '1281': 5,\n",
       " '1280': 15,\n",
       " '1283': 2,\n",
       " '1282': 2,\n",
       " '515': 4,\n",
       " '1289': 2,\n",
       " '514': 7,\n",
       " '1579': 13,\n",
       " '1578': 3,\n",
       " '689': 4,\n",
       " '517': 1,\n",
       " '685': 1,\n",
       " '1572': 2,\n",
       " '687': 5,\n",
       " '686': 3,\n",
       " '681': 2,\n",
       " '1576': 3,\n",
       " '1575': 2,\n",
       " '1574': 4,\n",
       " '623': 5,\n",
       " '622': 1,\n",
       " '621': 3,\n",
       " '873': 3,\n",
       " '620': 3,\n",
       " '1223': 3,\n",
       " '1222': 2,\n",
       " '1221': 2,\n",
       " '624': 4,\n",
       " '1371': 1,\n",
       " '406': 3,\n",
       " '405': 1,\n",
       " '1372': 1,\n",
       " '1375': 7,\n",
       " '1374': 2,\n",
       " '401': 8,\n",
       " '1376': 9,\n",
       " '1379': 2,\n",
       " '1378': 31,\n",
       " '452': 2,\n",
       " '409': 2,\n",
       " '408': 2,\n",
       " '453': 2,\n",
       " '454': 2,\n",
       " '455': 1,\n",
       " '456': 3,\n",
       " '457': 4,\n",
       " '379': 4,\n",
       " '378': 7,\n",
       " '371': 2,\n",
       " '370': 2,\n",
       " '373': 2,\n",
       " '372': 5,\n",
       " '375': 4,\n",
       " '374': 3,\n",
       " '377': 3,\n",
       " '376': 2,\n",
       " '2295': 2,\n",
       " '393': 5,\n",
       " '392': 2,\n",
       " '391': 2,\n",
       " '390': 2,\n",
       " '397': 2,\n",
       " '396': 3,\n",
       " '395': 2,\n",
       " '394': 6,\n",
       " '399': 3,\n",
       " '398': 10,\n",
       " '2309': 3,\n",
       " '2308': 6,\n",
       " '2301': 8,\n",
       " '2300': 1,\n",
       " '2303': 4,\n",
       " '2302': 4,\n",
       " '2305': 2,\n",
       " '2304': 5,\n",
       " '2307': 6,\n",
       " '2306': 4,\n",
       " '1246': 2,\n",
       " '245': 1,\n",
       " '244': 2,\n",
       " '247': 2,\n",
       " '246': 2,\n",
       " '241': 2,\n",
       " '240': 2,\n",
       " '243': 5,\n",
       " '242': 2,\n",
       " '249': 3,\n",
       " '248': 2,\n",
       " '2275': 3,\n",
       " '2277': 4,\n",
       " '2276': 1,\n",
       " '2271': 1,\n",
       " '2270': 13,\n",
       " '2273': 7,\n",
       " '2278': 7,\n",
       " '2459': 3,\n",
       " '2458': 5,\n",
       " '2455': 5,\n",
       " '2454': 2,\n",
       " '2457': 3,\n",
       " '2456': 3,\n",
       " '2451': 4,\n",
       " '2450': 4,\n",
       " '2453': 1,\n",
       " '179': 2,\n",
       " '178': 1,\n",
       " '177': 3,\n",
       " '176': 17,\n",
       " '175': 3,\n",
       " '174': 1,\n",
       " '173': 2,\n",
       " '172': 4,\n",
       " '171': 3,\n",
       " '170': 3,\n",
       " '2051': 1,\n",
       " '2050': 2,\n",
       " '2053': 3,\n",
       " '2052': 3,\n",
       " '2055': 10,\n",
       " '2054': 2,\n",
       " '2057': 16,\n",
       " '2056': 3,\n",
       " '2058': 5,\n",
       " '654': 2,\n",
       " '1501': 2,\n",
       " '1506': 3,\n",
       " '1110': 4,\n",
       " '1367': 10,\n",
       " '1504': 2,\n",
       " '225': 2,\n",
       " '1977': 7,\n",
       " '1600': 4,\n",
       " '659': 3,\n",
       " '1975': 1,\n",
       " '1974': 4,\n",
       " '1605': 5,\n",
       " '1604': 1,\n",
       " '1971': 1,\n",
       " '1606': 3,\n",
       " '1362': 7,\n",
       " '1968': 9,\n",
       " '1969': 3,\n",
       " '1618': 1,\n",
       " '1619': 1,\n",
       " '1964': 9,\n",
       " '1965': 5,\n",
       " '1966': 4,\n",
       " '1615': 7,\n",
       " '1960': 1,\n",
       " '1613': 2,\n",
       " '1610': 2,\n",
       " '1611': 12,\n",
       " '1769': 14,\n",
       " '1763': 1,\n",
       " '1760': 9,\n",
       " '1761': 1,\n",
       " '1764': 3,\n",
       " '1765': 5,\n",
       " '1142': 4,\n",
       " '1143': 1,\n",
       " '1140': 11,\n",
       " '1141': 1,\n",
       " '1146': 2,\n",
       " '1147': 2,\n",
       " '1144': 7,\n",
       " '1145': 2,\n",
       " '1148': 4,\n",
       " '1149': 5,\n",
       " '769': 2,\n",
       " '1546': 1,\n",
       " '1547': 6,\n",
       " '1544': 2,\n",
       " '691': 5,\n",
       " '1542': 1,\n",
       " '1543': 1,\n",
       " '694': 6,\n",
       " '1541': 3,\n",
       " '698': 4,\n",
       " '699': 5,\n",
       " '1548': 2,\n",
       " '542': 2,\n",
       " '543': 8,\n",
       " '540': 4,\n",
       " '541': 1,\n",
       " '546': 5,\n",
       " '547': 2,\n",
       " '544': 2,\n",
       " '1781': 2,\n",
       " '548': 15,\n",
       " '549': 4,\n",
       " '1782': 9,\n",
       " '1783': 3,\n",
       " '1784': 16,\n",
       " '1785': 4,\n",
       " '1786': 4,\n",
       " '1787': 3,\n",
       " '414': 1,\n",
       " '415': 1,\n",
       " '416': 2,\n",
       " '417': 1,\n",
       " '410': 3,\n",
       " '411': 2,\n",
       " '412': 1,\n",
       " '413': 1,\n",
       " '1384': 5,\n",
       " '1385': 2,\n",
       " '1386': 2,\n",
       " '1387': 3,\n",
       " '418': 3,\n",
       " '1381': 3,\n",
       " '1382': 13,\n",
       " '1383': 5,\n",
       " '1254': 4,\n",
       " '368': 4,\n",
       " '369': 4,\n",
       " '366': 15,\n",
       " '367': 6,\n",
       " '364': 3,\n",
       " '365': 1,\n",
       " '362': 5,\n",
       " '363': 5,\n",
       " '360': 2,\n",
       " '361': 6,\n",
       " '380': 2,\n",
       " '381': 4,\n",
       " '383': 5,\n",
       " '384': 4,\n",
       " '385': 1,\n",
       " '386': 2,\n",
       " '387': 3,\n",
       " '388': 3,\n",
       " '389': 4,\n",
       " '1253': 3,\n",
       " '2190': 2,\n",
       " '2191': 5,\n",
       " '258': 3,\n",
       " '2193': 4,\n",
       " '2194': 3,\n",
       " '2195': 3,\n",
       " '2196': 2,\n",
       " '2197': 3,\n",
       " '2198': 3,\n",
       " '2199': 3,\n",
       " '250': 3,\n",
       " '256': 5,\n",
       " '257': 4,\n",
       " '254': 50,\n",
       " '255': 10,\n",
       " '2200': 2,\n",
       " '2201': 5,\n",
       " '2202': 5,\n",
       " '2203': 3,\n",
       " '2204': 14,\n",
       " '2205': 3,\n",
       " '2206': 3,\n",
       " '2207': 3,\n",
       " '2208': 2,\n",
       " '2209': 1,\n",
       " '2428': 2,\n",
       " '2429': 2,\n",
       " '2420': 3,\n",
       " '2421': 4,\n",
       " '2422': 3,\n",
       " '2423': 3,\n",
       " '2424': 3,\n",
       " '1849': 3,\n",
       " '2426': 1,\n",
       " '2427': 4,\n",
       " '2432': 4,\n",
       " '1848': 1,\n",
       " '168': 1,\n",
       " '169': 7,\n",
       " '164': 1,\n",
       " '165': 3,\n",
       " '166': 6,\n",
       " '167': 4,\n",
       " '160': 4,\n",
       " '161': 9,\n",
       " '162': 4,\n",
       " '163': 6,\n",
       " '1980': 4,\n",
       " '2514': 3,\n",
       " '2510': 1,\n",
       " '2511': 2,\n",
       " '2512': 2,\n",
       " '2513': 4,\n",
       " '909': 17,\n",
       " '678': 1,\n",
       " '1814': 2,\n",
       " '1815': 2,\n",
       " '1816': 3,\n",
       " '1817': 3,\n",
       " '1810': 2,\n",
       " '1811': 2,\n",
       " '1812': 2,\n",
       " '1813': 5,\n",
       " '1818': 2,\n",
       " '1819': 6,\n",
       " '670': 2,\n",
       " '671': 4,\n",
       " '1609': 1,\n",
       " '1608': 14,\n",
       " '1979': 1,\n",
       " '1978': 4,\n",
       " '1601': 3,\n",
       " '1976': 1,\n",
       " '1603': 4,\n",
       " '1602': 2,\n",
       " '1973': 7,\n",
       " '1972': 3,\n",
       " '1607': 7,\n",
       " '1970': 3,\n",
       " '809': 9,\n",
       " '808': 3,\n",
       " '803': 2,\n",
       " '801': 1,\n",
       " '800': 4,\n",
       " '807': 3,\n",
       " '806': 2,\n",
       " '805': 3,\n",
       " '804': 4,\n",
       " '1775': 2,\n",
       " '1774': 1,\n",
       " '1777': 3,\n",
       " '1771': 3,\n",
       " '1770': 3,\n",
       " '1773': 4,\n",
       " '1772': 2,\n",
       " '1779': 1,\n",
       " '1778': 5,\n",
       " '1159': 3,\n",
       " '1158': 5,\n",
       " '1155': 1,\n",
       " '1154': 1,\n",
       " '1157': 8,\n",
       " '1151': 3,\n",
       " '1150': 2,\n",
       " '1153': 4,\n",
       " '1152': 1,\n",
       " '59': 4,\n",
       " '58': 10,\n",
       " '1551': 5,\n",
       " '1550': 16,\n",
       " '1553': 13,\n",
       " '1552': 86,\n",
       " '1555': 4,\n",
       " '1554': 2,\n",
       " '1556': 1,\n",
       " '1559': 1,\n",
       " '54': 3,\n",
       " '57': 2,\n",
       " '56': 4,\n",
       " '51': 2,\n",
       " '50': 4,\n",
       " '53': 4,\n",
       " '52': 7,\n",
       " '537': 2,\n",
       " '55': 2,\n",
       " '535': 2,\n",
       " '534': 2,\n",
       " '533': 3,\n",
       " '532': 2,\n",
       " '531': 4,\n",
       " '530': 6,\n",
       " '539': 3,\n",
       " '538': 2,\n",
       " '1558': 2,\n",
       " '536': 3,\n",
       " '429': 3,\n",
       " '428': 3,\n",
       " '1399': 3,\n",
       " '1398': 8,\n",
       " '421': 3,\n",
       " '1396': 4,\n",
       " '1395': 1,\n",
       " '1394': 3,\n",
       " '425': 2,\n",
       " '1392': 4,\n",
       " '427': 3,\n",
       " '426': 1,\n",
       " '853': 3,\n",
       " '2183': 1,\n",
       " '2182': 2,\n",
       " '2180': 4,\n",
       " '2187': 1,\n",
       " '2186': 1,\n",
       " '229': 2,\n",
       " '2184': 3,\n",
       " '227': 2,\n",
       " '226': 2,\n",
       " '2189': 10,\n",
       " '2188': 2,\n",
       " '223': 6,\n",
       " '222': 4,\n",
       " '221': 4,\n",
       " '220': 3,\n",
       " '2213': 2,\n",
       " '2212': 1,\n",
       " '2211': 3,\n",
       " '2210': 2,\n",
       " '2217': 1,\n",
       " '2216': 4,\n",
       " '2215': 3,\n",
       " '2214': 4,\n",
       " '2219': 1,\n",
       " '2218': 8,\n",
       " '151': 1,\n",
       " '150': 3,\n",
       " '153': 2,\n",
       " '152': 3,\n",
       " '155': 5,\n",
       " '154': 3,\n",
       " '157': 1,\n",
       " '156': 3,\n",
       " '159': 4,\n",
       " '158': 3,\n",
       " '2431': 3,\n",
       " '2430': 2,\n",
       " '2437': 4,\n",
       " '2436': 3,\n",
       " '2435': 2,\n",
       " '2434': 3,\n",
       " '2509': 2,\n",
       " '2508': 3,\n",
       " '2507': 1,\n",
       " '2506': 1,\n",
       " '2505': 3,\n",
       " '2504': 5,\n",
       " '2503': 2,\n",
       " '2502': 2,\n",
       " '2501': 1,\n",
       " '2500': 7,\n",
       " '1712': 2,\n",
       " '1806': 2,\n",
       " '1805': 4,\n",
       " '1804': 4,\n",
       " '1803': 2,\n",
       " '1802': 1,\n",
       " '1801': 2,\n",
       " '1800': 3,\n",
       " '1809': 4,\n",
       " '1808': 9,\n",
       " '1256': 3,\n",
       " '1948': 1,\n",
       " '1949': 4,\n",
       " '1525': 2,\n",
       " '1942': 3,\n",
       " '1943': 4,\n",
       " '1940': 3,\n",
       " '1946': 2,\n",
       " '1947': 4,\n",
       " '1944': 3,\n",
       " '1945': 1,\n",
       " '818': 4,\n",
       " '0': 2,\n",
       " '1255': 2,\n",
       " '810': 4,\n",
       " '811': 3,\n",
       " '812': 2,\n",
       " '813': 2,\n",
       " '815': 3,\n",
       " '816': 5,\n",
       " '817': 1,\n",
       " '1623': 2,\n",
       " '1522': 3,\n",
       " '1523': 5,\n",
       " '1993': 4,\n",
       " '1490': 2,\n",
       " '1491': 3,\n",
       " '1492': 1,\n",
       " '1992': 7,\n",
       " '1267': 3,\n",
       " '1495': 5,\n",
       " '1496': 1,\n",
       " '1497': 3,\n",
       " '1498': 1,\n",
       " '1499': 2,\n",
       " '423': 3,\n",
       " '1994': 3,\n",
       " '1700': 4,\n",
       " '1701': 5,\n",
       " '1703': 2,\n",
       " '1704': 2,\n",
       " '1625': 3,\n",
       " '1706': 2,\n",
       " '1707': 2,\n",
       " '1708': 4,\n",
       " '1709': 4,\n",
       " '1996': 5,\n",
       " '424': 5,\n",
       " '1128': 3,\n",
       " '1129': 3,\n",
       " '1120': 7,\n",
       " '1121': 3,\n",
       " '1122': 3,\n",
       " '1123': 8,\n",
       " '1124': 2,\n",
       " '1125': 4,\n",
       " '1126': 2,\n",
       " '1127': 1,\n",
       " '524': 1,\n",
       " '525': 4,\n",
       " '526': 3,\n",
       " '527': 3,\n",
       " '1018': 1,\n",
       " '1019': 4,\n",
       " '523': 1,\n",
       " '1014': 3,\n",
       " '1015': 2,\n",
       " '1016': 5,\n",
       " '1010': 4,\n",
       " '1011': 1,\n",
       " '1012': 4,\n",
       " '1013': 2,\n",
       " '1234': 3,\n",
       " '1235': 3,\n",
       " '1236': 2,\n",
       " '1230': 1,\n",
       " '1231': 3,\n",
       " '1232': 5,\n",
       " '1233': 2,\n",
       " '1238': 8,\n",
       " '1239': 2,\n",
       " '438': 3,\n",
       " '439': 5,\n",
       " '436': 1,\n",
       " '437': 2,\n",
       " '434': 9,\n",
       " '435': 5,\n",
       " '432': 3,\n",
       " '433': 1,\n",
       " '430': 1,\n",
       " '431': 3,\n",
       " '1162': 3,\n",
       " '1961': 3,\n",
       " '995': 1,\n",
       " '994': 3,\n",
       " '997': 2,\n",
       " '996': 2,\n",
       " '238': 2,\n",
       " '239': 4,\n",
       " '234': 1,\n",
       " '235': 1,\n",
       " '236': 1,\n",
       " '237': 2,\n",
       " '230': 19,\n",
       " '231': 2,\n",
       " '232': 3,\n",
       " '233': 5,\n",
       " '993': 3,\n",
       " '2228': 6,\n",
       " '2229': 4,\n",
       " '2226': 4,\n",
       " '2227': 1,\n",
       " '2224': 6,\n",
       " '2225': 9,\n",
       " '2222': 3,\n",
       " '2223': 5,\n",
       " '2220': 1,\n",
       " '2221': 4,\n",
       " '1': 3,\n",
       " '146': 2,\n",
       " '147': 1,\n",
       " '144': 3,\n",
       " '145': 5,\n",
       " '142': 4,\n",
       " '143': 2,\n",
       " '140': 1,\n",
       " '141': 3,\n",
       " '2468': 3,\n",
       " '148': 1,\n",
       " '149': 3,\n",
       " '2088': 5,\n",
       " '2089': 4,\n",
       " '2082': 2,\n",
       " '2083': 6,\n",
       " '2080': 10,\n",
       " '2081': 2,\n",
       " '2087': 1,\n",
       " '2084': 5,\n",
       " '2085': 4,\n",
       " '1832': 2,\n",
       " '1833': 1,\n",
       " '1831': 4,\n",
       " '1836': 3,\n",
       " '1837': 4,\n",
       " '1834': 2,\n",
       " '1835': 4,\n",
       " '1838': 1,\n",
       " '1839': 1,\n",
       " '2406': 2,\n",
       " '2155': 4,\n",
       " '939': 6,\n",
       " '2157': 5,\n",
       " '2150': 2,\n",
       " '2151': 1,\n",
       " '2400': 3,\n",
       " '2153': 1,\n",
       " '933': 2,\n",
       " '932': 1,\n",
       " '931': 4,\n",
       " '930': 6,\n",
       " '2158': 3,\n",
       " '2159': 16,\n",
       " '2408': 3,\n",
       " '2409': 2,\n",
       " '471': 1,\n",
       " '1955': 2,\n",
       " '1954': 1,\n",
       " '1957': 2,\n",
       " '1956': 5,\n",
       " '1951': 7,\n",
       " '1950': 4,\n",
       " '1952': 7,\n",
       " '1959': 1,\n",
       " '1958': 4,\n",
       " '829': 1,\n",
       " '828': 4,\n",
       " '825': 4,\n",
       " '824': 3,\n",
       " '827': 56,\n",
       " '826': 10,\n",
       " '821': 4,\n",
       " '820': 1,\n",
       " '823': 2,\n",
       " '822': 2,\n",
       " '1483': 3,\n",
       " '1482': 1,\n",
       " '1481': 6,\n",
       " '1480': 15,\n",
       " '1487': 6,\n",
       " '1486': 7,\n",
       " '1485': 13,\n",
       " '1484': 7,\n",
       " '1488': 2,\n",
       " '797': 3,\n",
       " '928': 2,\n",
       " '1711': 2,\n",
       " '1710': 5,\n",
       " '1717': 7,\n",
       " '1716': 2,\n",
       " '791': 4,\n",
       " '790': 5,\n",
       " '1719': 3,\n",
       " '1718': 2,\n",
       " '2413': 4,\n",
       " '799': 3,\n",
       " '798': 54,\n",
       " '612': 7,\n",
       " '2412': 3,\n",
       " '613': 4,\n",
       " '2415': 4,\n",
       " '610': 32,\n",
       " '2414': 2,\n",
       " '1139': 1,\n",
       " '1273': 3,\n",
       " '2417': 1,\n",
       " '1133': 2,\n",
       " '1132': 5,\n",
       " '1131': 3,\n",
       " '1130': 5,\n",
       " '1137': 5,\n",
       " '1136': 9,\n",
       " '1135': 2,\n",
       " '1134': 2,\n",
       " '920': 1,\n",
       " '614': 2,\n",
       " '2418': 3,\n",
       " '1277': 5,\n",
       " '519': 2,\n",
       " '518': 3,\n",
       " '926': 4,\n",
       " '1008': 5,\n",
       " '1007': 4,\n",
       " '1006': 17,\n",
       " '513': 1,\n",
       " '927': 8,\n",
       " '1003': 2,\n",
       " '1002': 3,\n",
       " '1001': 2,\n",
       " '1000': 1,\n",
       " '1227': 1,\n",
       " '1226': 5,\n",
       " '1225': 1,\n",
       " '1224': 3,\n",
       " '627': 1,\n",
       " '626': 4,\n",
       " '625': 2,\n",
       " '1220': 3,\n",
       " '629': 3,\n",
       " '628': 3,\n",
       " '1229': 6,\n",
       " '1228': 1,\n",
       " '2': 2,\n",
       " '1561': 1,\n",
       " '11': 5,\n",
       " '10': 7,\n",
       " '13': 3,\n",
       " '12': 1,\n",
       " '15': 2,\n",
       " '14': 2,\n",
       " '17': 3,\n",
       " '16': 4,\n",
       " '19': 2,\n",
       " '18': 1,\n",
       " '929': 1,\n",
       " '688': 4,\n",
       " '201': 3,\n",
       " '200': 4,\n",
       " '203': 1,\n",
       " '202': 1,\n",
       " '205': 4,\n",
       " '204': 2,\n",
       " '207': 2,\n",
       " '206': 2,\n",
       " '209': 5,\n",
       " '208': 1,\n",
       " '1573': 2,\n",
       " '684': 3,\n",
       " '1571': 1,\n",
       " '2239': 3,\n",
       " '2238': 2,\n",
       " '1570': 3,\n",
       " '998': 4,\n",
       " '2231': 3,\n",
       " '1577': 1,\n",
       " '2233': 2,\n",
       " '2232': 5,\n",
       " '2235': 3,\n",
       " '2234': 4,\n",
       " '2237': 3,\n",
       " '680': 4,\n",
       " '683': 4,\n",
       " '682': 2,\n",
       " '2185': 2,\n",
       " '228': 1,\n",
       " '2094': 3,\n",
       " '2097': 2,\n",
       " '2096': 2,\n",
       " '2091': 5,\n",
       " '2090': 1,\n",
       " '2093': 3,\n",
       " '2092': 6,\n",
       " '2099': 4,\n",
       " '2098': 5,\n",
       " '224': 5,\n",
       " '1829': 3,\n",
       " '1825': 1,\n",
       " '1824': 2,\n",
       " '1827': 4,\n",
       " '1826': 2,\n",
       " '1821': 2,\n",
       " '1820': 3,\n",
       " '1822': 3,\n",
       " '2147': 2,\n",
       " '2146': 1,\n",
       " '2145': 1,\n",
       " '2144': 1,\n",
       " '2143': 1,\n",
       " '2142': 2,\n",
       " '2141': 2,\n",
       " '2416': 3,\n",
       " '2419': 2,\n",
       " '921': 4,\n",
       " '922': 3,\n",
       " '923': 3,\n",
       " '924': 1,\n",
       " '925': 2,\n",
       " '2149': 6,\n",
       " '2148': 5,\n",
       " '2411': 2,\n",
       " '1920': 2,\n",
       " '1921': 1,\n",
       " '1922': 3,\n",
       " '1924': 9,\n",
       " '1925': 4,\n",
       " '1926': 6,\n",
       " '1927': 3,\n",
       " '1929': 3,\n",
       " '832': 17,\n",
       " '833': 1,\n",
       " '830': 3,\n",
       " '831': 2,\n",
       " '836': 5,\n",
       " '837': 1,\n",
       " '834': 2,\n",
       " '2410': 1,\n",
       " '838': 3,\n",
       " '3': 19,\n",
       " '1986': 3,\n",
       " '1532': 7,\n",
       " '784': 2,\n",
       " '785': 5,\n",
       " '786': 8,\n",
       " '787': 6,\n",
       " '780': 4,\n",
       " '781': 4,\n",
       " '782': 4,\n",
       " '1729': 2,\n",
       " '1726': 3,\n",
       " '1727': 3,\n",
       " '1724': 7,\n",
       " '1725': 7,\n",
       " '788': 2,\n",
       " '789': 1,\n",
       " '1720': 5,\n",
       " '1721': 6,\n",
       " '2439': 3,\n",
       " '60': 9,\n",
       " '61': 2,\n",
       " '62': 3,\n",
       " '2438': 5,\n",
       " '64': 1,\n",
       " '65': 2,\n",
       " '66': 1,\n",
       " '67': 5,\n",
       " '68': 4,\n",
       " '69': 1,\n",
       " '407': 1,\n",
       " '1588': 2,\n",
       " '1589': 3,\n",
       " '1582': 4,\n",
       " '1583': 2,\n",
       " '1580': 1,\n",
       " '1581': 4,\n",
       " '1586': 2,\n",
       " '1373': 3,\n",
       " '1584': 3,\n",
       " '1585': 2,\n",
       " '2433': 2,\n",
       " '1038': 2,\n",
       " '404': 8,\n",
       " '508': 1,\n",
       " '509': 3,\n",
       " '1032': 10,\n",
       " '403': 5,\n",
       " '504': 5,\n",
       " '1031': 12,\n",
       " '502': 2,\n",
       " '1037': 15,\n",
       " '500': 4,\n",
       " '1035': 12,\n",
       " '1212': 4,\n",
       " '1213': 4,\n",
       " '632': 3,\n",
       " '633': 1,\n",
       " '1216': 1,\n",
       " '1217': 1,\n",
       " '1214': 4,\n",
       " '1215': 28,\n",
       " '638': 3,\n",
       " '639': 2,\n",
       " '1218': 20,\n",
       " ...}"
      ]
     },
     "execution_count": 35,
     "metadata": {},
     "output_type": "execute_result"
    }
   ],
   "source": [
    "g.degree()"
   ]
  },
  {
   "cell_type": "code",
   "execution_count": null,
   "metadata": {
    "collapsed": true
   },
   "outputs": [],
   "source": []
  },
  {
   "cell_type": "code",
   "execution_count": null,
   "metadata": {
    "collapsed": true
   },
   "outputs": [],
   "source": []
  },
  {
   "cell_type": "code",
   "execution_count": null,
   "metadata": {
    "collapsed": true
   },
   "outputs": [],
   "source": []
  },
  {
   "cell_type": "code",
   "execution_count": null,
   "metadata": {
    "collapsed": true
   },
   "outputs": [],
   "source": []
  },
  {
   "cell_type": "code",
   "execution_count": null,
   "metadata": {
    "collapsed": false
   },
   "outputs": [],
   "source": [
    "len(authors)"
   ]
  },
  {
   "cell_type": "code",
   "execution_count": null,
   "metadata": {
    "collapsed": false
   },
   "outputs": [],
   "source": [
    "def print_author_node(author_list):\n",
    "    node_list = [\"id\\tname\"]\n",
    "    for author in author_list:\n",
    "        node_info = \"\\t\".join([author.aid, author.name])\n",
    "        node_list.append(node_info)\n",
    "    return node_list"
   ]
  },
  {
   "cell_type": "code",
   "execution_count": null,
   "metadata": {
    "collapsed": true
   },
   "outputs": [],
   "source": [
    "def print_paper_node(paper_list):\n",
    "    node_list = [\"id\\ttitle\"]\n",
    "    for paper in paper_list:\n",
    "        node_info = \"\\t\".join([paper.pid, paper.title])\n",
    "        node_list.append(node_info)\n",
    "    return node_list"
   ]
  },
  {
   "cell_type": "code",
   "execution_count": null,
   "metadata": {
    "collapsed": true
   },
   "outputs": [],
   "source": [
    "def print_to_file(info_list, filename):\n",
    "    with open(filename, \"wb\") as f:\n",
    "        for line in info_list:\n",
    "            f.write(line)\n",
    "            f.write(\"\\n\")\n",
    "    print filename, \"DONE!\""
   ]
  },
  {
   "cell_type": "markdown",
   "metadata": {},
   "source": [
    "### 5.1 Preparation"
   ]
  },
  {
   "cell_type": "code",
   "execution_count": null,
   "metadata": {
    "collapsed": false
   },
   "outputs": [],
   "source": [
    "class Interpreter():\n",
    "    def __init__(self):\n",
    "        self.digit_holder = {}\n",
    "        self.string_holder = {}\n",
    "        \n",
    "    def add(self, key, value):\n",
    "        self.digit_holder[key] = value\n",
    "        self.string_holder[value] = key\n",
    "    \n",
    "    def lookup(self, key):\n",
    "        if type(key) is int:\n",
    "            return self.digit_holder[key]\n",
    "        else:\n",
    "            return self.string_holder[key]"
   ]
  },
  {
   "cell_type": "code",
   "execution_count": null,
   "metadata": {
    "collapsed": true
   },
   "outputs": [],
   "source": [
    "fake_aid = Interpreter()\n",
    "fake_pid = Interpreter()\n",
    "\n",
    "for i in range(0, len(authors.keys())):\n",
    "    aid = authors.keys()[i]\n",
    "    fake_aid.add(i, aid)\n",
    "    \n",
    "for i in range(0, len(papers.keys())):\n",
    "    pid = papers.keys()[i]\n",
    "    fake_pid.add(i, pid)"
   ]
  },
  {
   "cell_type": "code",
   "execution_count": null,
   "metadata": {
    "collapsed": true
   },
   "outputs": [],
   "source": [
    "def make_pairs(input_list):\n",
    "    length = len(input_list)\n",
    "    ret = []\n",
    "    if length <= 1:\n",
    "        return []\n",
    "    for i in range(0, length-1):\n",
    "        for j in range(i+1, length):\n",
    "            ret.append((input_list[i], input_list[j]))\n",
    "    return ret"
   ]
  },
  {
   "cell_type": "markdown",
   "metadata": {},
   "source": [
    "# 6 Author Network Construction"
   ]
  },
  {
   "cell_type": "code",
   "execution_count": null,
   "metadata": {
    "collapsed": false
   },
   "outputs": [],
   "source": [
    "def author_network(authors, papers, start_year, end_year):\n",
    "    edge_list = []\n",
    "    #edge_list = [\"from\\tto\\tweight\\tpaper\"]\n",
    "    for p in papers.values():\n",
    "        if p.year < start_year or p.year > end_year:\n",
    "            continue\n",
    "        author_ids = p.author_ids\n",
    "        edges = make_pairs(author_ids)\n",
    "        for edge in edges:\n",
    "            # print edge\n",
    "            edge_list.append(\"\\t\".join([edge[0], edge[1], \"10\", p.title]))\n",
    "    return edge_list"
   ]
  },
  {
   "cell_type": "code",
   "execution_count": null,
   "metadata": {
    "collapsed": true
   },
   "outputs": [],
   "source": [
    "def author_from_edgelist(edge_list):\n",
    "    author_set = set()\n",
    "    for edge in edge_list:\n",
    "        segs = edge.split(\"\\t\")\n",
    "        author_set.add(segs[0])\n",
    "        author_set.add(segs[1])\n",
    "    return list(author_set)"
   ]
  },
  {
   "cell_type": "code",
   "execution_count": null,
   "metadata": {
    "collapsed": true
   },
   "outputs": [],
   "source": [
    "def network_output(authors, papers, start_year, end_year, edge_file, node_file):\n",
    "    edge_list = author_network(authors, papers, start_year, end_year)\n",
    "    \n",
    "    with open(edge_file, \"wb\") as f:\n",
    "        f.write(\"from\\tto\\tweight\\tpaper\\n\")\n",
    "        for line in edge_list[0:50]:\n",
    "            f.write(line.encode('utf8'))\n",
    "            f.write(\"\\n\")\n",
    "    node_list = author_from_edgelist(edge_list[0:50])\n",
    "    \n",
    "    with open(node_file, \"wb\") as f:\n",
    "        f.write(\"ID\\tName\\tType\\n\")\n",
    "        for au in node_list[0:50]:\n",
    "            line = \"\\t\".join([au, authors[au].name, \"P\"])\n",
    "            f.write(line.encode('utf8'))\n",
    "            f.write(\"\\n\")\n",
    "    return"
   ]
  },
  {
   "cell_type": "code",
   "execution_count": null,
   "metadata": {
    "collapsed": false
   },
   "outputs": [],
   "source": [
    "network_output(authors, papers, 2011, 2015, \"edges.txt\", \"nodes.txt\")"
   ]
  },
  {
   "cell_type": "code",
   "execution_count": null,
   "metadata": {
    "collapsed": false
   },
   "outputs": [],
   "source": [
    "len(authors)"
   ]
  },
  {
   "cell_type": "markdown",
   "metadata": {},
   "source": [
    "## 6. Paper Network Construction"
   ]
  },
  {
   "cell_type": "code",
   "execution_count": null,
   "metadata": {
    "collapsed": false
   },
   "outputs": [],
   "source": []
  },
  {
   "cell_type": "code",
   "execution_count": null,
   "metadata": {
    "collapsed": true
   },
   "outputs": [],
   "source": []
  },
  {
   "cell_type": "code",
   "execution_count": null,
   "metadata": {
    "collapsed": true
   },
   "outputs": [],
   "source": []
  },
  {
   "cell_type": "markdown",
   "metadata": {},
   "source": [
    "## 10. Export"
   ]
  },
  {
   "cell_type": "code",
   "execution_count": null,
   "metadata": {
    "collapsed": true
   },
   "outputs": [],
   "source": [
    "import pickle"
   ]
  },
  {
   "cell_type": "code",
   "execution_count": null,
   "metadata": {
    "collapsed": true
   },
   "outputs": [],
   "source": [
    "out_au = []\n",
    "for au in authors.values():\n",
    "    out_au.append(au.__dict__)\n",
    "\n",
    "with open(\"./Data/Author_Data.json\", \"wb\") as f:\n",
    "    json.dump(out_au, f)"
   ]
  },
  {
   "cell_type": "code",
   "execution_count": null,
   "metadata": {
    "collapsed": false
   },
   "outputs": [],
   "source": [
    "out_pp = []\n",
    "for pp in papers.values():\n",
    "    out_pp.append(pp.__dict__)\n",
    "\n",
    "with open(\"./Data/Paper_Data.json\", \"wb\") as f:\n",
    "    json.dump(out_pp, f)"
   ]
  },
  {
   "cell_type": "code",
   "execution_count": null,
   "metadata": {
    "collapsed": true
   },
   "outputs": [],
   "source": [
    "with open(\"./Data/Author_Data.pickle\", \"wb\") as f:\n",
    "    pickle.dump(authors, f)"
   ]
  },
  {
   "cell_type": "code",
   "execution_count": null,
   "metadata": {
    "collapsed": true
   },
   "outputs": [],
   "source": [
    "with open(\"./Data/Paper_Data.pickle\", \"wb\") as f:\n",
    "    pickle.dump(papers, f)"
   ]
  },
  {
   "cell_type": "code",
   "execution_count": null,
   "metadata": {
    "collapsed": false
   },
   "outputs": [],
   "source": [
    "import rake\n",
    "import operator"
   ]
  },
  {
   "cell_type": "code",
   "execution_count": null,
   "metadata": {
    "collapsed": true
   },
   "outputs": [],
   "source": [
    "G=nx.path_graph(4)"
   ]
  },
  {
   "cell_type": "code",
   "execution_count": null,
   "metadata": {
    "collapsed": true
   },
   "outputs": [],
   "source": [
    "nx.write_edgelist(G, \"test.edgelist\")"
   ]
  },
  {
   "cell_type": "code",
   "execution_count": null,
   "metadata": {
    "collapsed": false
   },
   "outputs": [],
   "source": [
    "o = []\n",
    "for p in papers.values():\n",
    "    o.extend(p.topics)"
   ]
  },
  {
   "cell_type": "code",
   "execution_count": null,
   "metadata": {
    "collapsed": true
   },
   "outputs": [],
   "source": [
    "o = list(set(o))"
   ]
  },
  {
   "cell_type": "code",
   "execution_count": null,
   "metadata": {
    "collapsed": false
   },
   "outputs": [],
   "source": [
    "len(o)"
   ]
  },
  {
   "cell_type": "code",
   "execution_count": null,
   "metadata": {
    "collapsed": false
   },
   "outputs": [],
   "source": [
    "len(papers)"
   ]
  },
  {
   "cell_type": "code",
   "execution_count": null,
   "metadata": {
    "collapsed": false
   },
   "outputs": [],
   "source": [
    "print \"from\\tto\\tweight\\ttype\""
   ]
  },
  {
   "cell_type": "code",
   "execution_count": null,
   "metadata": {
    "collapsed": true
   },
   "outputs": [],
   "source": []
  }
 ],
 "metadata": {
  "kernelspec": {
   "display_name": "Python 2",
   "language": "python",
   "name": "python2"
  },
  "language_info": {
   "codemirror_mode": {
    "name": "ipython",
    "version": 2
   },
   "file_extension": ".py",
   "mimetype": "text/x-python",
   "name": "python",
   "nbconvert_exporter": "python",
   "pygments_lexer": "ipython2",
   "version": "2.7.11"
  }
 },
 "nbformat": 4,
 "nbformat_minor": 0
}
